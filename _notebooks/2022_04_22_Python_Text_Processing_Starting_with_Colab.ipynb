{
  "nbformat": 4,
  "nbformat_minor": 0,
  "metadata": {
    "colab": {
      "name": "2022-04-22-Python_Text_Processing_Starting_with_Colab.ipynb",
      "provenance": [],
      "toc_visible": true,
      "collapsed_sections": [],
      "authorship_tag": "ABX9TyPEywnKf7i+iscvlNVwLhQh"
    },
    "kernelspec": {
      "name": "python3",
      "display_name": "Python 3"
    },
    "language_info": {
      "name": "python"
    }
  },
  "cells": [
    {
      "cell_type": "markdown",
      "source": [
        "# Colabで始めるPythonテキスト処理\n",
        "\n",
        "> Colabを使ってPythonでのテキスト処理を行うための情報です\n",
        "\n",
        "- toc: true\n",
        "- badges: true\n",
        "- comments: false\n",
        "- categories: [jupyter, python]"
      ],
      "metadata": {
        "id": "MK057f2ytppD"
      }
    },
    {
      "cell_type": "markdown",
      "source": [
        "## 初めに\n",
        "\n",
        "システム開発・運用の現場ではテキストを処理して別のテキストを作る仕事が多くあります。\n",
        "\n",
        "このNotebookでは、ColabでPythonを実行することによってテキスト処理を行う際の基礎的な情報を提供します。\n",
        "\n",
        "なお、Pythonにおけるフロー制御([if文](https://docs.python.org/ja/3/tutorial/controlflow.html#if-statements)、[for文](https://docs.python.org/ja/3/tutorial/controlflow.html#for-statements)など)やデータ構造([リスト型](https://docs.python.org/ja/3/tutorial/introduction.html#lists)、[辞書型](https://docs.python.org/ja/3/tutorial/datastructures.html#dictionaries)など)は説明しません。それらの情報は、python.orgの[Python チュートリアル — Python 3.10.4 ドキュメント](https://docs.python.org/ja/3/tutorial/index.html)を参照することを推奨します。(リンク先は3.10.4のものですが、使用するPythonのバージョンに対応したものを参照してください。)また、正規表現も扱いません。このNotebookでは正規表現を使用せずに実現できる簡単なテキスト処理を扱います。\n",
        "\n",
        "## Colab(Google Colaboratory)とは\n",
        "\n",
        "[Colaboratory へようこそ \\- Colaboratory](https://colab.research.google.com/?hl=ja#scrollTo=-Rh3-Vt9Nev9)　を参照してください。\n",
        "\n",
        "### Jupyter Notebookとの関係\n",
        "\n",
        "Colabは、Colabがホストする Jupyter Notebook(.ipynb)の実行環境です。 Colabで作成したNotebookをJupyterで実行したり、Jupyterで作成したNotebookをColabで実行したりできます。\n",
        "\n",
        "Jupyterプロジェクトについては、[Project Jupyter \\| Home](https://jupyter.org/)を参照してください。\n",
        "\n",
        "## Colabの使い方\n",
        "\n",
        "[Overview of Colaboratory Features \\- Colaboratory](https://colab.research.google.com/notebooks/basic_features_overview.ipynb) を参照してください。\n"
      ],
      "metadata": {
        "id": "LzBOZIoBQc9f"
      }
    },
    {
      "cell_type": "markdown",
      "source": [
        "## 変数を確認する幾つかの方法\n",
        "\n",
        "Colabはインタラクティブな実行環境なので、コードセルを実行するたびにその結果を確認しながら進めるのが確実です。このセクションでは変数の中身を確認するいくつかの方法を説明します。"
      ],
      "metadata": {
        "id": "S9T0U63f0QHR"
      }
    },
    {
      "cell_type": "markdown",
      "source": [
        "### 変数を値評価する\n",
        "\n",
        "変数を評価すると、文字列に変換してコードセルのアウトプットに書き出されます。"
      ],
      "metadata": {
        "id": "bMcDa1pl1iZZ"
      }
    },
    {
      "cell_type": "code",
      "source": [
        "s = 'foo'\n",
        "s"
      ],
      "metadata": {
        "colab": {
          "base_uri": "https://localhost:8080/",
          "height": 35
        },
        "id": "ZNlz6Ex21tAz",
        "outputId": "94b2825c-04d6-4ef1-ab27-6ca18411d989"
      },
      "execution_count": null,
      "outputs": [
        {
          "output_type": "execute_result",
          "data": {
            "text/plain": [
              "'foo'"
            ],
            "application/vnd.google.colaboratory.intrinsic+json": {
              "type": "string"
            }
          },
          "metadata": {},
          "execution_count": 14
        }
      ]
    },
    {
      "cell_type": "markdown",
      "source": [
        "ただし、この方法では、最後に評価した結果のみ出力されます。"
      ],
      "metadata": {
        "id": "C-1G1JkR2CSS"
      }
    },
    {
      "cell_type": "code",
      "source": [
        "s1 = 'foo'\n",
        "s2 = 'bar'\n",
        "s1\n",
        "s2"
      ],
      "metadata": {
        "colab": {
          "base_uri": "https://localhost:8080/",
          "height": 35
        },
        "id": "vZYtQx2511zE",
        "outputId": "37c6a383-7735-4ce1-ff29-b168407a9880"
      },
      "execution_count": null,
      "outputs": [
        {
          "output_type": "execute_result",
          "data": {
            "text/plain": [
              "'bar'"
            ],
            "application/vnd.google.colaboratory.intrinsic+json": {
              "type": "string"
            }
          },
          "metadata": {},
          "execution_count": 7
        }
      ]
    },
    {
      "cell_type": "markdown",
      "source": [
        "また、改行コードを含む文字列では改行コードを文字として出力します。"
      ],
      "metadata": {
        "id": "yAc94s8T32XO"
      }
    },
    {
      "cell_type": "code",
      "source": [
        "s = \"foo\\nbar\"\n",
        "s"
      ],
      "metadata": {
        "colab": {
          "base_uri": "https://localhost:8080/",
          "height": 35
        },
        "id": "xTTemexb2w6a",
        "outputId": "5af515f5-d27d-41ae-eb01-3ec46b5f6781"
      },
      "execution_count": null,
      "outputs": [
        {
          "output_type": "execute_result",
          "data": {
            "text/plain": [
              "'foo\\nbar'"
            ],
            "application/vnd.google.colaboratory.intrinsic+json": {
              "type": "string"
            }
          },
          "metadata": {},
          "execution_count": 15
        }
      ]
    },
    {
      "cell_type": "markdown",
      "source": [
        "`None`である場合は出力されません。"
      ],
      "metadata": {
        "id": "AwFwpZp_4KK7"
      }
    },
    {
      "cell_type": "code",
      "source": [
        "s = None\n",
        "s"
      ],
      "metadata": {
        "id": "onc42WJa4HUH"
      },
      "execution_count": null,
      "outputs": []
    },
    {
      "cell_type": "markdown",
      "source": [
        "[list](https://docs.python.org/ja/3/tutorial/introduction.html#lists)を評価すると次のように出力されます。"
      ],
      "metadata": {
        "id": "xt_TOs279yJG"
      }
    },
    {
      "cell_type": "code",
      "source": [
        "l = ['abs()', 'aiter()', 'all()', 'any()', 'anext()', 'ascii()']\n",
        "l"
      ],
      "metadata": {
        "colab": {
          "base_uri": "https://localhost:8080/"
        },
        "id": "GRuaplzx9vNq",
        "outputId": "2a8e1a63-4416-4c18-ab31-ef0e4cefd11e"
      },
      "execution_count": null,
      "outputs": [
        {
          "output_type": "execute_result",
          "data": {
            "text/plain": [
              "['abs()', 'aiter()', 'all()', 'any()', 'anext()', 'ascii()']"
            ]
          },
          "metadata": {},
          "execution_count": 17
        }
      ]
    },
    {
      "cell_type": "markdown",
      "source": [
        "### print関数を使う\n",
        "\n",
        "[print](https://docs.python.org/ja/3.7/library/functions.html#print)関数を使っても、コードセルのアウトプットに書き出すことができます。"
      ],
      "metadata": {
        "id": "pAcEUEdd2LKi"
      }
    },
    {
      "cell_type": "code",
      "source": [
        "s = 'foo'\n",
        "print(s)"
      ],
      "metadata": {
        "colab": {
          "base_uri": "https://localhost:8080/"
        },
        "outputId": "15127c68-b03a-4b37-da48-9d5eac79ebdf",
        "id": "tEdS56C14ySR"
      },
      "execution_count": null,
      "outputs": [
        {
          "output_type": "stream",
          "name": "stdout",
          "text": [
            "foo\n"
          ]
        }
      ]
    },
    {
      "cell_type": "markdown",
      "source": [
        "この方法では、print関数を実行するたびにアウトプットに書き出されます。"
      ],
      "metadata": {
        "id": "OLXkWZfr4ySS"
      }
    },
    {
      "cell_type": "code",
      "source": [
        "s1 = 'foo'\n",
        "s2 = 'bar'\n",
        "print(s1)\n",
        "print(s2)"
      ],
      "metadata": {
        "colab": {
          "base_uri": "https://localhost:8080/"
        },
        "outputId": "bcf8ebd2-be80-4da8-f35e-cc437f780479",
        "id": "M-ILAcx84ySS"
      },
      "execution_count": null,
      "outputs": [
        {
          "output_type": "stream",
          "name": "stdout",
          "text": [
            "foo\n",
            "bar\n"
          ]
        }
      ]
    },
    {
      "cell_type": "markdown",
      "source": [
        "また、改行コードを含む文字列では改行コードを改行として出力します。"
      ],
      "metadata": {
        "id": "LHet4Sys4ySS"
      }
    },
    {
      "cell_type": "code",
      "source": [
        "s = \"foo\\nbar\"\n",
        "print(s)"
      ],
      "metadata": {
        "colab": {
          "base_uri": "https://localhost:8080/"
        },
        "outputId": "5fc8ae92-e917-401a-980f-a6a707cff956",
        "id": "h5vTQHaE4yST"
      },
      "execution_count": null,
      "outputs": [
        {
          "output_type": "stream",
          "name": "stdout",
          "text": [
            "foo\n",
            "bar\n"
          ]
        }
      ]
    },
    {
      "cell_type": "markdown",
      "source": [
        "また、`None`である場合はNoneという文字列として出力されます。"
      ],
      "metadata": {
        "id": "19QlBBmP4yST"
      }
    },
    {
      "cell_type": "code",
      "source": [
        "s = None\n",
        "print(s)"
      ],
      "metadata": {
        "colab": {
          "base_uri": "https://localhost:8080/"
        },
        "id": "552j9HxW4yST",
        "outputId": "9e096336-130c-4815-8afd-0738de389c4d"
      },
      "execution_count": null,
      "outputs": [
        {
          "output_type": "stream",
          "name": "stdout",
          "text": [
            "None\n"
          ]
        }
      ]
    },
    {
      "cell_type": "markdown",
      "source": [
        "[list](https://docs.python.org/ja/3/tutorial/introduction.html#lists)を書き出す場合、ただprint関数に与えると次のようになります。"
      ],
      "metadata": {
        "id": "sEJusR2o67nE"
      }
    },
    {
      "cell_type": "code",
      "source": [
        "l = ['abs()', 'aiter()', 'all()', 'any()', 'anext()', 'ascii()']\n",
        "print(l)"
      ],
      "metadata": {
        "colab": {
          "base_uri": "https://localhost:8080/"
        },
        "id": "C4JIY-Zt7CRH",
        "outputId": "22bd9e75-772c-482d-eb97-0a478d90bfd0"
      },
      "execution_count": null,
      "outputs": [
        {
          "output_type": "stream",
          "name": "stdout",
          "text": [
            "['abs()', 'aiter()', 'all()', 'any()', 'anext()', 'ascii()']\n"
          ]
        }
      ]
    },
    {
      "cell_type": "markdown",
      "source": [
        "[str.join](https://docs.python.org/ja/3/library/stdtypes.html?highlight=join#str.join)を利用すると次のように、１要素を１行として書き出すことができます。"
      ],
      "metadata": {
        "id": "7Y6zhZTn7X7U"
      }
    },
    {
      "cell_type": "code",
      "source": [
        "l = ['abs()', 'aiter()', 'all()', 'any()', 'anext()', 'ascii()']\n",
        "print('\\n'.join(l))"
      ],
      "metadata": {
        "colab": {
          "base_uri": "https://localhost:8080/"
        },
        "id": "8Y4gPIeZ6q73",
        "outputId": "ebbf791e-6a77-4bf8-dcbc-7c3565eb4af4"
      },
      "execution_count": null,
      "outputs": [
        {
          "output_type": "stream",
          "name": "stdout",
          "text": [
            "abs()\n",
            "aiter()\n",
            "all()\n",
            "any()\n",
            "anext()\n",
            "ascii()\n"
          ]
        }
      ]
    },
    {
      "cell_type": "markdown",
      "source": [
        "### pandas.Dataframeを使う\n",
        "\n"
      ],
      "metadata": {
        "id": "668BT55s5TJy"
      }
    },
    {
      "cell_type": "markdown",
      "source": [
        "listのインデックスも表示したいのであれば、[enumerate](https://docs.python.org/ja/3/library/functions.html)関数を利用するのが典型的な方法ですが、"
      ],
      "metadata": {
        "id": "OTfsCYNE72Am"
      }
    },
    {
      "cell_type": "code",
      "source": [
        "for i, x in enumerate(['abs()', 'aiter()', 'all()', 'any()', 'anext()', 'ascii()']):\n",
        "  print(i,x)"
      ],
      "metadata": {
        "colab": {
          "base_uri": "https://localhost:8080/"
        },
        "id": "IIzHgz3_8Tec",
        "outputId": "a395334e-9b14-40b1-a261-a2b30ce16442"
      },
      "execution_count": null,
      "outputs": [
        {
          "output_type": "stream",
          "name": "stdout",
          "text": [
            "0 abs()\n",
            "1 aiter()\n",
            "2 all()\n",
            "3 any()\n",
            "4 anext()\n",
            "5 ascii()\n"
          ]
        }
      ]
    },
    {
      "cell_type": "markdown",
      "source": [
        "pandas.DataFrameを使って書き出すと簡単です。"
      ],
      "metadata": {
        "id": "SkrsvR1f8oG4"
      }
    },
    {
      "cell_type": "code",
      "source": [
        "import pandas\n",
        "\n",
        "pandas.DataFrame(['abs()', 'aiter()', 'all()', 'any()', 'anext()', 'ascii()'])"
      ],
      "metadata": {
        "colab": {
          "base_uri": "https://localhost:8080/",
          "height": 238
        },
        "id": "JdawsXkV599I",
        "outputId": "98371713-7413-4dce-f286-0ba6f0481f9b"
      },
      "execution_count": null,
      "outputs": [
        {
          "output_type": "execute_result",
          "data": {
            "text/plain": [
              "         0\n",
              "0    abs()\n",
              "1  aiter()\n",
              "2    all()\n",
              "3    any()\n",
              "4  anext()\n",
              "5  ascii()"
            ],
            "text/html": [
              "\n",
              "  <div id=\"df-16262721-665d-461c-866b-ba80f32d0fb9\">\n",
              "    <div class=\"colab-df-container\">\n",
              "      <div>\n",
              "<style scoped>\n",
              "    .dataframe tbody tr th:only-of-type {\n",
              "        vertical-align: middle;\n",
              "    }\n",
              "\n",
              "    .dataframe tbody tr th {\n",
              "        vertical-align: top;\n",
              "    }\n",
              "\n",
              "    .dataframe thead th {\n",
              "        text-align: right;\n",
              "    }\n",
              "</style>\n",
              "<table border=\"1\" class=\"dataframe\">\n",
              "  <thead>\n",
              "    <tr style=\"text-align: right;\">\n",
              "      <th></th>\n",
              "      <th>0</th>\n",
              "    </tr>\n",
              "  </thead>\n",
              "  <tbody>\n",
              "    <tr>\n",
              "      <th>0</th>\n",
              "      <td>abs()</td>\n",
              "    </tr>\n",
              "    <tr>\n",
              "      <th>1</th>\n",
              "      <td>aiter()</td>\n",
              "    </tr>\n",
              "    <tr>\n",
              "      <th>2</th>\n",
              "      <td>all()</td>\n",
              "    </tr>\n",
              "    <tr>\n",
              "      <th>3</th>\n",
              "      <td>any()</td>\n",
              "    </tr>\n",
              "    <tr>\n",
              "      <th>4</th>\n",
              "      <td>anext()</td>\n",
              "    </tr>\n",
              "    <tr>\n",
              "      <th>5</th>\n",
              "      <td>ascii()</td>\n",
              "    </tr>\n",
              "  </tbody>\n",
              "</table>\n",
              "</div>\n",
              "      <button class=\"colab-df-convert\" onclick=\"convertToInteractive('df-16262721-665d-461c-866b-ba80f32d0fb9')\"\n",
              "              title=\"Convert this dataframe to an interactive table.\"\n",
              "              style=\"display:none;\">\n",
              "        \n",
              "  <svg xmlns=\"http://www.w3.org/2000/svg\" height=\"24px\"viewBox=\"0 0 24 24\"\n",
              "       width=\"24px\">\n",
              "    <path d=\"M0 0h24v24H0V0z\" fill=\"none\"/>\n",
              "    <path d=\"M18.56 5.44l.94 2.06.94-2.06 2.06-.94-2.06-.94-.94-2.06-.94 2.06-2.06.94zm-11 1L8.5 8.5l.94-2.06 2.06-.94-2.06-.94L8.5 2.5l-.94 2.06-2.06.94zm10 10l.94 2.06.94-2.06 2.06-.94-2.06-.94-.94-2.06-.94 2.06-2.06.94z\"/><path d=\"M17.41 7.96l-1.37-1.37c-.4-.4-.92-.59-1.43-.59-.52 0-1.04.2-1.43.59L10.3 9.45l-7.72 7.72c-.78.78-.78 2.05 0 2.83L4 21.41c.39.39.9.59 1.41.59.51 0 1.02-.2 1.41-.59l7.78-7.78 2.81-2.81c.8-.78.8-2.07 0-2.86zM5.41 20L4 18.59l7.72-7.72 1.47 1.35L5.41 20z\"/>\n",
              "  </svg>\n",
              "      </button>\n",
              "      \n",
              "  <style>\n",
              "    .colab-df-container {\n",
              "      display:flex;\n",
              "      flex-wrap:wrap;\n",
              "      gap: 12px;\n",
              "    }\n",
              "\n",
              "    .colab-df-convert {\n",
              "      background-color: #E8F0FE;\n",
              "      border: none;\n",
              "      border-radius: 50%;\n",
              "      cursor: pointer;\n",
              "      display: none;\n",
              "      fill: #1967D2;\n",
              "      height: 32px;\n",
              "      padding: 0 0 0 0;\n",
              "      width: 32px;\n",
              "    }\n",
              "\n",
              "    .colab-df-convert:hover {\n",
              "      background-color: #E2EBFA;\n",
              "      box-shadow: 0px 1px 2px rgba(60, 64, 67, 0.3), 0px 1px 3px 1px rgba(60, 64, 67, 0.15);\n",
              "      fill: #174EA6;\n",
              "    }\n",
              "\n",
              "    [theme=dark] .colab-df-convert {\n",
              "      background-color: #3B4455;\n",
              "      fill: #D2E3FC;\n",
              "    }\n",
              "\n",
              "    [theme=dark] .colab-df-convert:hover {\n",
              "      background-color: #434B5C;\n",
              "      box-shadow: 0px 1px 3px 1px rgba(0, 0, 0, 0.15);\n",
              "      filter: drop-shadow(0px 1px 2px rgba(0, 0, 0, 0.3));\n",
              "      fill: #FFFFFF;\n",
              "    }\n",
              "  </style>\n",
              "\n",
              "      <script>\n",
              "        const buttonEl =\n",
              "          document.querySelector('#df-16262721-665d-461c-866b-ba80f32d0fb9 button.colab-df-convert');\n",
              "        buttonEl.style.display =\n",
              "          google.colab.kernel.accessAllowed ? 'block' : 'none';\n",
              "\n",
              "        async function convertToInteractive(key) {\n",
              "          const element = document.querySelector('#df-16262721-665d-461c-866b-ba80f32d0fb9');\n",
              "          const dataTable =\n",
              "            await google.colab.kernel.invokeFunction('convertToInteractive',\n",
              "                                                     [key], {});\n",
              "          if (!dataTable) return;\n",
              "\n",
              "          const docLinkHtml = 'Like what you see? Visit the ' +\n",
              "            '<a target=\"_blank\" href=https://colab.research.google.com/notebooks/data_table.ipynb>data table notebook</a>'\n",
              "            + ' to learn more about interactive tables.';\n",
              "          element.innerHTML = '';\n",
              "          dataTable['output_type'] = 'display_data';\n",
              "          await google.colab.output.renderOutput(dataTable, element);\n",
              "          const docLink = document.createElement('div');\n",
              "          docLink.innerHTML = docLinkHtml;\n",
              "          element.appendChild(docLink);\n",
              "        }\n",
              "      </script>\n",
              "    </div>\n",
              "  </div>\n",
              "  "
            ]
          },
          "metadata": {},
          "execution_count": 26
        }
      ]
    },
    {
      "cell_type": "markdown",
      "source": [
        "listの要素に改行コードを含む場合、print関数を使用すると次にようになってしまいますが、"
      ],
      "metadata": {
        "id": "rNw2tY2S-bah"
      }
    },
    {
      "cell_type": "code",
      "source": [
        "for i, x in enumerate(['ab\\ns()', 'ai\\nter()']):\n",
        "  print(i,x)"
      ],
      "metadata": {
        "colab": {
          "base_uri": "https://localhost:8080/"
        },
        "id": "KAcjMD2p-K5C",
        "outputId": "c5c1bdc9-8402-4a1f-b478-28031360d064"
      },
      "execution_count": null,
      "outputs": [
        {
          "output_type": "stream",
          "name": "stdout",
          "text": [
            "0 ab\n",
            "s()\n",
            "1 ai\n",
            "ter()\n"
          ]
        }
      ]
    },
    {
      "cell_type": "markdown",
      "source": [
        "pandas.DataFrameであれば改行コードを文字列として書き出します。"
      ],
      "metadata": {
        "id": "85gPGbB5-m_d"
      }
    },
    {
      "cell_type": "code",
      "source": [
        "import pandas\n",
        "\n",
        "pandas.DataFrame(['ab\\ns()', 'ai\\nter()'])"
      ],
      "metadata": {
        "colab": {
          "base_uri": "https://localhost:8080/",
          "height": 112
        },
        "id": "Sb2AxaNp-URi",
        "outputId": "50a30559-b388-467c-ba7d-5920e176485e"
      },
      "execution_count": null,
      "outputs": [
        {
          "output_type": "execute_result",
          "data": {
            "text/plain": [
              "           0\n",
              "0    ab\\ns()\n",
              "1  ai\\nter()"
            ],
            "text/html": [
              "\n",
              "  <div id=\"df-12b0df35-63b0-4393-8ff3-98804b0a2b1a\">\n",
              "    <div class=\"colab-df-container\">\n",
              "      <div>\n",
              "<style scoped>\n",
              "    .dataframe tbody tr th:only-of-type {\n",
              "        vertical-align: middle;\n",
              "    }\n",
              "\n",
              "    .dataframe tbody tr th {\n",
              "        vertical-align: top;\n",
              "    }\n",
              "\n",
              "    .dataframe thead th {\n",
              "        text-align: right;\n",
              "    }\n",
              "</style>\n",
              "<table border=\"1\" class=\"dataframe\">\n",
              "  <thead>\n",
              "    <tr style=\"text-align: right;\">\n",
              "      <th></th>\n",
              "      <th>0</th>\n",
              "    </tr>\n",
              "  </thead>\n",
              "  <tbody>\n",
              "    <tr>\n",
              "      <th>0</th>\n",
              "      <td>ab\\ns()</td>\n",
              "    </tr>\n",
              "    <tr>\n",
              "      <th>1</th>\n",
              "      <td>ai\\nter()</td>\n",
              "    </tr>\n",
              "  </tbody>\n",
              "</table>\n",
              "</div>\n",
              "      <button class=\"colab-df-convert\" onclick=\"convertToInteractive('df-12b0df35-63b0-4393-8ff3-98804b0a2b1a')\"\n",
              "              title=\"Convert this dataframe to an interactive table.\"\n",
              "              style=\"display:none;\">\n",
              "        \n",
              "  <svg xmlns=\"http://www.w3.org/2000/svg\" height=\"24px\"viewBox=\"0 0 24 24\"\n",
              "       width=\"24px\">\n",
              "    <path d=\"M0 0h24v24H0V0z\" fill=\"none\"/>\n",
              "    <path d=\"M18.56 5.44l.94 2.06.94-2.06 2.06-.94-2.06-.94-.94-2.06-.94 2.06-2.06.94zm-11 1L8.5 8.5l.94-2.06 2.06-.94-2.06-.94L8.5 2.5l-.94 2.06-2.06.94zm10 10l.94 2.06.94-2.06 2.06-.94-2.06-.94-.94-2.06-.94 2.06-2.06.94z\"/><path d=\"M17.41 7.96l-1.37-1.37c-.4-.4-.92-.59-1.43-.59-.52 0-1.04.2-1.43.59L10.3 9.45l-7.72 7.72c-.78.78-.78 2.05 0 2.83L4 21.41c.39.39.9.59 1.41.59.51 0 1.02-.2 1.41-.59l7.78-7.78 2.81-2.81c.8-.78.8-2.07 0-2.86zM5.41 20L4 18.59l7.72-7.72 1.47 1.35L5.41 20z\"/>\n",
              "  </svg>\n",
              "      </button>\n",
              "      \n",
              "  <style>\n",
              "    .colab-df-container {\n",
              "      display:flex;\n",
              "      flex-wrap:wrap;\n",
              "      gap: 12px;\n",
              "    }\n",
              "\n",
              "    .colab-df-convert {\n",
              "      background-color: #E8F0FE;\n",
              "      border: none;\n",
              "      border-radius: 50%;\n",
              "      cursor: pointer;\n",
              "      display: none;\n",
              "      fill: #1967D2;\n",
              "      height: 32px;\n",
              "      padding: 0 0 0 0;\n",
              "      width: 32px;\n",
              "    }\n",
              "\n",
              "    .colab-df-convert:hover {\n",
              "      background-color: #E2EBFA;\n",
              "      box-shadow: 0px 1px 2px rgba(60, 64, 67, 0.3), 0px 1px 3px 1px rgba(60, 64, 67, 0.15);\n",
              "      fill: #174EA6;\n",
              "    }\n",
              "\n",
              "    [theme=dark] .colab-df-convert {\n",
              "      background-color: #3B4455;\n",
              "      fill: #D2E3FC;\n",
              "    }\n",
              "\n",
              "    [theme=dark] .colab-df-convert:hover {\n",
              "      background-color: #434B5C;\n",
              "      box-shadow: 0px 1px 3px 1px rgba(0, 0, 0, 0.15);\n",
              "      filter: drop-shadow(0px 1px 2px rgba(0, 0, 0, 0.3));\n",
              "      fill: #FFFFFF;\n",
              "    }\n",
              "  </style>\n",
              "\n",
              "      <script>\n",
              "        const buttonEl =\n",
              "          document.querySelector('#df-12b0df35-63b0-4393-8ff3-98804b0a2b1a button.colab-df-convert');\n",
              "        buttonEl.style.display =\n",
              "          google.colab.kernel.accessAllowed ? 'block' : 'none';\n",
              "\n",
              "        async function convertToInteractive(key) {\n",
              "          const element = document.querySelector('#df-12b0df35-63b0-4393-8ff3-98804b0a2b1a');\n",
              "          const dataTable =\n",
              "            await google.colab.kernel.invokeFunction('convertToInteractive',\n",
              "                                                     [key], {});\n",
              "          if (!dataTable) return;\n",
              "\n",
              "          const docLinkHtml = 'Like what you see? Visit the ' +\n",
              "            '<a target=\"_blank\" href=https://colab.research.google.com/notebooks/data_table.ipynb>data table notebook</a>'\n",
              "            + ' to learn more about interactive tables.';\n",
              "          element.innerHTML = '';\n",
              "          dataTable['output_type'] = 'display_data';\n",
              "          await google.colab.output.renderOutput(dataTable, element);\n",
              "          const docLink = document.createElement('div');\n",
              "          docLink.innerHTML = docLinkHtml;\n",
              "          element.appendChild(docLink);\n",
              "        }\n",
              "      </script>\n",
              "    </div>\n",
              "  </div>\n",
              "  "
            ]
          },
          "metadata": {},
          "execution_count": 25
        }
      ]
    },
    {
      "cell_type": "markdown",
      "source": [
        "pandas.DataFrameは次のように、[dictionary](https://docs.python.org/ja/3/tutorial/datastructures.html#dictionaries)を要素とするlistを表として書き出すことができます。"
      ],
      "metadata": {
        "id": "KlipFoh_82cD"
      }
    },
    {
      "cell_type": "code",
      "source": [
        "import pandas\n",
        "\n",
        "pandas.DataFrame(\n",
        "    [\n",
        "     {'col1': 'row1-1', 'col2': 'row1-2'},\n",
        "     {'col1': 'row2-1', 'col2': 'row2-2'},\n",
        "     ]\n",
        ")"
      ],
      "metadata": {
        "colab": {
          "base_uri": "https://localhost:8080/",
          "height": 112
        },
        "id": "hmlKaPtY5cv3",
        "outputId": "062b90a4-53aa-42dc-86d6-7ceac7bef225"
      },
      "execution_count": null,
      "outputs": [
        {
          "output_type": "execute_result",
          "data": {
            "text/plain": [
              "     col1    col2\n",
              "0  row1-1  row1-2\n",
              "1  row2-1  row2-2"
            ],
            "text/html": [
              "\n",
              "  <div id=\"df-5d7ea66d-e0ca-4a70-b9e0-a8b49721f330\">\n",
              "    <div class=\"colab-df-container\">\n",
              "      <div>\n",
              "<style scoped>\n",
              "    .dataframe tbody tr th:only-of-type {\n",
              "        vertical-align: middle;\n",
              "    }\n",
              "\n",
              "    .dataframe tbody tr th {\n",
              "        vertical-align: top;\n",
              "    }\n",
              "\n",
              "    .dataframe thead th {\n",
              "        text-align: right;\n",
              "    }\n",
              "</style>\n",
              "<table border=\"1\" class=\"dataframe\">\n",
              "  <thead>\n",
              "    <tr style=\"text-align: right;\">\n",
              "      <th></th>\n",
              "      <th>col1</th>\n",
              "      <th>col2</th>\n",
              "    </tr>\n",
              "  </thead>\n",
              "  <tbody>\n",
              "    <tr>\n",
              "      <th>0</th>\n",
              "      <td>row1-1</td>\n",
              "      <td>row1-2</td>\n",
              "    </tr>\n",
              "    <tr>\n",
              "      <th>1</th>\n",
              "      <td>row2-1</td>\n",
              "      <td>row2-2</td>\n",
              "    </tr>\n",
              "  </tbody>\n",
              "</table>\n",
              "</div>\n",
              "      <button class=\"colab-df-convert\" onclick=\"convertToInteractive('df-5d7ea66d-e0ca-4a70-b9e0-a8b49721f330')\"\n",
              "              title=\"Convert this dataframe to an interactive table.\"\n",
              "              style=\"display:none;\">\n",
              "        \n",
              "  <svg xmlns=\"http://www.w3.org/2000/svg\" height=\"24px\"viewBox=\"0 0 24 24\"\n",
              "       width=\"24px\">\n",
              "    <path d=\"M0 0h24v24H0V0z\" fill=\"none\"/>\n",
              "    <path d=\"M18.56 5.44l.94 2.06.94-2.06 2.06-.94-2.06-.94-.94-2.06-.94 2.06-2.06.94zm-11 1L8.5 8.5l.94-2.06 2.06-.94-2.06-.94L8.5 2.5l-.94 2.06-2.06.94zm10 10l.94 2.06.94-2.06 2.06-.94-2.06-.94-.94-2.06-.94 2.06-2.06.94z\"/><path d=\"M17.41 7.96l-1.37-1.37c-.4-.4-.92-.59-1.43-.59-.52 0-1.04.2-1.43.59L10.3 9.45l-7.72 7.72c-.78.78-.78 2.05 0 2.83L4 21.41c.39.39.9.59 1.41.59.51 0 1.02-.2 1.41-.59l7.78-7.78 2.81-2.81c.8-.78.8-2.07 0-2.86zM5.41 20L4 18.59l7.72-7.72 1.47 1.35L5.41 20z\"/>\n",
              "  </svg>\n",
              "      </button>\n",
              "      \n",
              "  <style>\n",
              "    .colab-df-container {\n",
              "      display:flex;\n",
              "      flex-wrap:wrap;\n",
              "      gap: 12px;\n",
              "    }\n",
              "\n",
              "    .colab-df-convert {\n",
              "      background-color: #E8F0FE;\n",
              "      border: none;\n",
              "      border-radius: 50%;\n",
              "      cursor: pointer;\n",
              "      display: none;\n",
              "      fill: #1967D2;\n",
              "      height: 32px;\n",
              "      padding: 0 0 0 0;\n",
              "      width: 32px;\n",
              "    }\n",
              "\n",
              "    .colab-df-convert:hover {\n",
              "      background-color: #E2EBFA;\n",
              "      box-shadow: 0px 1px 2px rgba(60, 64, 67, 0.3), 0px 1px 3px 1px rgba(60, 64, 67, 0.15);\n",
              "      fill: #174EA6;\n",
              "    }\n",
              "\n",
              "    [theme=dark] .colab-df-convert {\n",
              "      background-color: #3B4455;\n",
              "      fill: #D2E3FC;\n",
              "    }\n",
              "\n",
              "    [theme=dark] .colab-df-convert:hover {\n",
              "      background-color: #434B5C;\n",
              "      box-shadow: 0px 1px 3px 1px rgba(0, 0, 0, 0.15);\n",
              "      filter: drop-shadow(0px 1px 2px rgba(0, 0, 0, 0.3));\n",
              "      fill: #FFFFFF;\n",
              "    }\n",
              "  </style>\n",
              "\n",
              "      <script>\n",
              "        const buttonEl =\n",
              "          document.querySelector('#df-5d7ea66d-e0ca-4a70-b9e0-a8b49721f330 button.colab-df-convert');\n",
              "        buttonEl.style.display =\n",
              "          google.colab.kernel.accessAllowed ? 'block' : 'none';\n",
              "\n",
              "        async function convertToInteractive(key) {\n",
              "          const element = document.querySelector('#df-5d7ea66d-e0ca-4a70-b9e0-a8b49721f330');\n",
              "          const dataTable =\n",
              "            await google.colab.kernel.invokeFunction('convertToInteractive',\n",
              "                                                     [key], {});\n",
              "          if (!dataTable) return;\n",
              "\n",
              "          const docLinkHtml = 'Like what you see? Visit the ' +\n",
              "            '<a target=\"_blank\" href=https://colab.research.google.com/notebooks/data_table.ipynb>data table notebook</a>'\n",
              "            + ' to learn more about interactive tables.';\n",
              "          element.innerHTML = '';\n",
              "          dataTable['output_type'] = 'display_data';\n",
              "          await google.colab.output.renderOutput(dataTable, element);\n",
              "          const docLink = document.createElement('div');\n",
              "          docLink.innerHTML = docLinkHtml;\n",
              "          element.appendChild(docLink);\n",
              "        }\n",
              "      </script>\n",
              "    </div>\n",
              "  </div>\n",
              "  "
            ]
          },
          "metadata": {},
          "execution_count": 21
        }
      ]
    },
    {
      "cell_type": "markdown",
      "source": [
        "## テキストを読み込むいくつかの方法\n",
        "\n",
        "Colabでテキストを処理するためには、処理するテキストを読み込まなければなりません。このセクションでは、そのいくつかの方法について説明します。"
      ],
      "metadata": {
        "id": "lD4qaInuSEv2"
      }
    },
    {
      "cell_type": "markdown",
      "source": [
        "### テキストをコードに埋め込む\n",
        "\n",
        "通常のプログラムであれば、処理するテキストをコードに埋め込むのはナンセンスです。しかし、Colabはインタラクティブな実行環境なので、処理するテキストをコードとして書いてしまっても構わないでしょう。"
      ],
      "metadata": {
        "id": "xQ8j8z2rSUtt"
      }
    },
    {
      "cell_type": "markdown",
      "source": [
        "テキストを１行ずつ処理する場合、１行が１要素となっているリストとして扱うのが便利です。以下のように書きます。"
      ],
      "metadata": {
        "id": "WoKMEy6BTdSA"
      }
    },
    {
      "cell_type": "code",
      "source": [
        "user_list = [\n",
        "        'TAGUCHI Tetsuya',\n",
        "        'TAKATA Yoshinao',\n",
        "        'IWAMOTO Yoshiya',\n",
        "        'NONAKA Takeichi',\n",
        "        'TSUKAMOTO Hisami'\n",
        "]\n",
        "\n",
        "user_list"
      ],
      "metadata": {
        "colab": {
          "base_uri": "https://localhost:8080/"
        },
        "id": "mFe4CSQTQfCV",
        "outputId": "00904aca-99b9-4183-fecf-8bf44f1b00bd"
      },
      "execution_count": null,
      "outputs": [
        {
          "output_type": "execute_result",
          "data": {
            "text/plain": [
              "['TAGUCHI Tetsuya',\n",
              " 'TAKATA Yoshinao',\n",
              " 'IWAMOTO Yoshiya',\n",
              " 'NONAKA Takeichi',\n",
              " 'TSUKAMOTO Hisami']"
            ]
          },
          "metadata": {},
          "execution_count": 1
        }
      ]
    },
    {
      "cell_type": "markdown",
      "source": [
        "\n",
        "先述の方法は、各行をシングルクォートで囲み、カンマで区切る必要があるので、行数が増えると面倒です。その場合はヒアドキュメントとして記述し、行ごとに分割することもできます。"
      ],
      "metadata": {
        "id": "LG-R3UsBUsdu"
      }
    },
    {
      "cell_type": "code",
      "source": [
        "user_list = '''TAGUCHI Tetsuya\n",
        "TAKATA Yoshinao\n",
        "IWAMOTO Yoshiya\n",
        "NONAKA Takeichi\n",
        "TSUKAMOTO Hisami\n",
        "'''.splitlines()\n",
        "\n",
        "user_list"
      ],
      "metadata": {
        "colab": {
          "base_uri": "https://localhost:8080/"
        },
        "id": "Egc_aTUnUmU-",
        "outputId": "360d9387-c718-40ba-8730-8cf2e96d5f9d"
      },
      "execution_count": null,
      "outputs": [
        {
          "output_type": "execute_result",
          "data": {
            "text/plain": [
              "['TAGUCHI Tetsuya',\n",
              " 'TAKATA Yoshinao',\n",
              " 'IWAMOTO Yoshiya',\n",
              " 'NONAKA Takeichi',\n",
              " 'TSUKAMOTO Hisami']"
            ]
          },
          "metadata": {},
          "execution_count": 2
        }
      ]
    },
    {
      "cell_type": "markdown",
      "source": [
        "### ファイルを読み込む\n",
        "\n",
        "処理するテキストが他のシステムからファイルとして提供されている場合など、コードに埋め込むよりも直接ファイルを読み込んだ方が良い場合もあるので、併せて説明します。\n"
      ],
      "metadata": {
        "id": "t296bTmTXObZ"
      }
    },
    {
      "cell_type": "markdown",
      "source": [
        "#### サンプルファイルを用意する\n",
        "\n",
        "ファイルを読み込むコードを例示するためには、Colabのランタイム上に読み込むファイルを用意する必要があります。\n",
        "\n",
        "以下のコードを実行すると、カレントディレクトリに`user.txt`ファイルが作成されます。"
      ],
      "metadata": {
        "id": "KPZrdUUrZUW_"
      }
    },
    {
      "cell_type": "code",
      "source": [
        "%%writefile user.txt\n",
        "TAGUCHI Tetsuya\n",
        "TAKATA Yoshinao\n",
        "IWAMOTO Yoshiya\n",
        "NONAKA Takeichi\n",
        "TSUKAMOTO Hisami\n"
      ],
      "metadata": {
        "colab": {
          "base_uri": "https://localhost:8080/"
        },
        "id": "FOtKpieSY2HD",
        "outputId": "ad2218b1-682e-48c4-b3ad-bb556e506fd5"
      },
      "execution_count": null,
      "outputs": [
        {
          "output_type": "stream",
          "name": "stdout",
          "text": [
            "Overwriting user.txt\n"
          ]
        }
      ]
    },
    {
      "cell_type": "markdown",
      "source": [
        "#### Pythonのfile objectを使って読み込む\n",
        "\n",
        "用意したサンプルファイルをPythonの[open](https://docs.python.org/ja/3/library/functions.html#open)関数にファイルパスを渡すことで、開きます。開いたファイルは[file object](https://docs.python.org/ja/3/glossary.html#term-file-object)として扱われます。また、[with](https://docs.python.org/ja/3/reference/compound_stmts.html#with)文でラップしておくと、file bcjectはwith文ブロックを抜ける際に閉じられます。\n",
        "\n",
        "これはPythonでファイルを読み込むときの典型的な方法です。"
      ],
      "metadata": {
        "id": "u78u46KXZ2r2"
      }
    },
    {
      "cell_type": "code",
      "source": [
        "with open('user.txt') as f:\n",
        "    lines = f.read()\n",
        "\n",
        "lines"
      ],
      "metadata": {
        "colab": {
          "base_uri": "https://localhost:8080/",
          "height": 35
        },
        "id": "PoMYoYBtaNCf",
        "outputId": "2b205823-31a3-45a8-a3a5-03238182d9b4"
      },
      "execution_count": null,
      "outputs": [
        {
          "output_type": "execute_result",
          "data": {
            "text/plain": [
              "'TAGUCHI Tetsuya\\nTAKATA Yoshinao\\nIWAMOTO Yoshiya\\nNONAKA Takeichi\\nTSUKAMOTO Hisami'"
            ],
            "application/vnd.google.colaboratory.intrinsic+json": {
              "type": "string"
            }
          },
          "metadata": {},
          "execution_count": 19
        }
      ]
    },
    {
      "cell_type": "markdown",
      "source": [
        "file objectのreadメソッドでファイルを読み込むと、ファイルの内容が1つの文字列になるので、splitlinesメソッドで行ごとに分割すると、あとで処理するときに便利です。"
      ],
      "metadata": {
        "id": "HEWTtbHFeV9d"
      }
    },
    {
      "cell_type": "code",
      "source": [
        "user_list = lines.splitlines()\n",
        "user_list"
      ],
      "metadata": {
        "colab": {
          "base_uri": "https://localhost:8080/"
        },
        "id": "d76K3ftDeqfg",
        "outputId": "76227847-2d96-4c36-c26e-55d8399895b6"
      },
      "execution_count": null,
      "outputs": [
        {
          "output_type": "execute_result",
          "data": {
            "text/plain": [
              "['TAGUCHI Tetsuya',\n",
              " 'TAKATA Yoshinao',\n",
              " 'IWAMOTO Yoshiya',\n",
              " 'NONAKA Takeichi',\n",
              " 'TSUKAMOTO Hisami']"
            ]
          },
          "metadata": {},
          "execution_count": 20
        }
      ]
    },
    {
      "cell_type": "markdown",
      "source": [
        "file objectのreadlinesメソッドで読み込むと、１行1要素のリストになりますが、末尾に改行文字を含みます。"
      ],
      "metadata": {
        "id": "SPieTd2ZfBKB"
      }
    },
    {
      "cell_type": "code",
      "source": [
        "with open('user.txt') as f:\n",
        "    user_list = f.readlines()\n",
        "\n",
        "user_list"
      ],
      "metadata": {
        "colab": {
          "base_uri": "https://localhost:8080/"
        },
        "id": "N_78C5nuevdN",
        "outputId": "e6a67fc4-7b08-44cc-96ca-b8fef17ed094"
      },
      "execution_count": null,
      "outputs": [
        {
          "output_type": "execute_result",
          "data": {
            "text/plain": [
              "['TAGUCHI Tetsuya\\n',\n",
              " 'TAKATA Yoshinao\\n',\n",
              " 'IWAMOTO Yoshiya\\n',\n",
              " 'NONAKA Takeichi\\n',\n",
              " 'TSUKAMOTO Hisami']"
            ]
          },
          "metadata": {},
          "execution_count": 21
        }
      ]
    },
    {
      "cell_type": "markdown",
      "source": [
        "listにfile objectを与えても同様です。"
      ],
      "metadata": {
        "id": "CHc-708Sfvsp"
      }
    },
    {
      "cell_type": "code",
      "source": [
        "with open('user.txt') as f:\n",
        "    user_list = list(f)\n",
        "\n",
        "user_list"
      ],
      "metadata": {
        "colab": {
          "base_uri": "https://localhost:8080/"
        },
        "id": "_g5D1U6te879",
        "outputId": "1db71cbc-773e-41f2-c614-cc7bb1868452"
      },
      "execution_count": null,
      "outputs": [
        {
          "output_type": "execute_result",
          "data": {
            "text/plain": [
              "['TAGUCHI Tetsuya\\n',\n",
              " 'TAKATA Yoshinao\\n',\n",
              " 'IWAMOTO Yoshiya\\n',\n",
              " 'NONAKA Takeichi\\n',\n",
              " 'TSUKAMOTO Hisami']"
            ]
          },
          "metadata": {},
          "execution_count": 22
        }
      ]
    },
    {
      "cell_type": "markdown",
      "source": [
        "#### マジックコマンドを使って読み込む\n",
        "\n",
        "`%sx`マジックの簡略化記法である`!`を使ってシステムコマンド(この場合はcat)を実行しその結果を変数に受け取る方法でも、ファイルを読み込むことができます。なお、`%sx`マジック(とその簡略化記法`!`)は、実行結果を改行文字で分割したリストとして返します。"
      ],
      "metadata": {
        "id": "3f7NHZ2NiEV8"
      }
    },
    {
      "cell_type": "code",
      "source": [
        "user_list = !cat user.txt\n",
        "user_list"
      ],
      "metadata": {
        "colab": {
          "base_uri": "https://localhost:8080/"
        },
        "id": "PGCYOodLgbq9",
        "outputId": "2eba5b12-bf66-454b-a9c4-6741f9414a6a"
      },
      "execution_count": null,
      "outputs": [
        {
          "output_type": "execute_result",
          "data": {
            "text/plain": [
              "['TAGUCHI Tetsuya',\n",
              " 'TAKATA Yoshinao',\n",
              " 'IWAMOTO Yoshiya',\n",
              " 'NONAKA Takeichi',\n",
              " 'TSUKAMOTO Hisami']"
            ]
          },
          "metadata": {},
          "execution_count": 26
        }
      ]
    },
    {
      "cell_type": "markdown",
      "source": [
        "Colabでファイルを読み込む場合は、`!`からcatコマンドを実行する方が、file objectを使用するよりも簡単に書くことができます。"
      ],
      "metadata": {
        "id": "R8wB065BmMaS"
      }
    },
    {
      "cell_type": "markdown",
      "source": [
        "#### GoogleDriveにあるファイルを読み込む方法\n",
        "\n",
        "Colabでファイルを読み込む場合は、ファイルをGoogleDrive上に置き、ColabのランタイムにGoogleDriveをマウントすることで、読み込めるようにします。\n",
        "\n",
        "ColabのランタイムにGoogleDriveをマウントするには、以下のコードを実行し、表示されるウィンドウの指示に従って操作します。\n"
      ],
      "metadata": {
        "id": "zzJ4v-FRW62R"
      }
    },
    {
      "cell_type": "code",
      "source": [
        "from google.colab import drive\n",
        "drive.mount('/content/drive')"
      ],
      "metadata": {
        "colab": {
          "base_uri": "https://localhost:8080/"
        },
        "id": "RBwv9CdrYEXU",
        "outputId": "31a4db3f-28ed-45a6-c468-667d297b246b"
      },
      "execution_count": null,
      "outputs": [
        {
          "output_type": "stream",
          "name": "stdout",
          "text": [
            "Mounted at /content/drive\n"
          ]
        }
      ]
    },
    {
      "cell_type": "markdown",
      "source": [
        "コードを実行すると、Colabランタイムの`/content/drive`にGoogleDriveがマウントされるので、あとは先述の方法でファイルを読み込むことができます。ファイルのパスは、次のように`!`を使って`ls`などのコマンドを実行し、探すのが良いでしょう。"
      ],
      "metadata": {
        "id": "IfppPwlHgIJv"
      }
    },
    {
      "cell_type": "code",
      "source": [
        "!ls /content/drive/"
      ],
      "metadata": {
        "colab": {
          "base_uri": "https://localhost:8080/"
        },
        "id": "vegs_pHum65i",
        "outputId": "8f0b5f0b-386b-4670-ee94-fa7ec566d3e3"
      },
      "execution_count": null,
      "outputs": [
        {
          "output_type": "stream",
          "name": "stdout",
          "text": [
            "MyDrive\n"
          ]
        }
      ]
    },
    {
      "cell_type": "markdown",
      "source": [
        "### CSVファイルを読み込む場合\n",
        "\n",
        "CSVファイルを読み込む場合は、先述のfile objectを使って読み込む方法でもマジックコマンドを使って読み込む場合でも、[csvモジュール](https://docs.python.org/ja/3/library/csv.html)を用いてパースを行うべきです。読み込んだ各行を`,`(カンマ)で分割してはいけません。以下にその理由を示します。"
      ],
      "metadata": {
        "id": "2PRPojnKncyR"
      }
    },
    {
      "cell_type": "markdown",
      "source": [
        "#### サンプルファイルを用意する\n",
        "\n",
        "サンプルコードを例示するためには、Colabのランタイム上に読み込むファイルを用意する必要があります。"
      ],
      "metadata": {
        "id": "WA7CwGJSoUUE"
      }
    },
    {
      "cell_type": "markdown",
      "source": [
        "次に、以下のコードを実行します。実行すると、カレントディレクトリに`user.csv`ファイルが作成されます。"
      ],
      "metadata": {
        "id": "cLeUQWSyoUUF"
      }
    },
    {
      "cell_type": "code",
      "source": [
        "%%writefile user.csv\n",
        "family name,personal name\n",
        "\"TAGU,CHI\",Tetsuya\n",
        "\"TA\"\"KATA\",Yoshinao\n"
      ],
      "metadata": {
        "colab": {
          "base_uri": "https://localhost:8080/"
        },
        "outputId": "b838854e-5e77-4f8b-c961-814e6001a4cb",
        "id": "6-jg-V90oUUF"
      },
      "execution_count": null,
      "outputs": [
        {
          "output_type": "stream",
          "name": "stdout",
          "text": [
            "Writing user.csv\n"
          ]
        }
      ]
    },
    {
      "cell_type": "markdown",
      "source": [
        "上のcsvファイルの内容は、Excelで作成したものです。\n",
        "\n",
        "2行目の第１列には`,`(カンマ)が含まれています。この場合は、１列目の文字列が`\"`(ダブルクォート)で括られます。  \n",
        "また、３行目の第１列には`\"`が含まれています。この場合は、１列目の文字列が`\"`で括られた上で、エスケープ文字として`\"`が挿入されています。\n",
        "\n",
        "この２行目を`,`で分割すると次のようになります。"
      ],
      "metadata": {
        "id": "AZngO_Ygs6V7"
      }
    },
    {
      "cell_type": "code",
      "source": [
        "with open('user.csv') as f:\n",
        "    lines = f.read().splitlines()\n",
        "\n",
        "lines[1].split(',')"
      ],
      "metadata": {
        "colab": {
          "base_uri": "https://localhost:8080/"
        },
        "id": "aXO9ZXseCMNb",
        "outputId": "90e0d0cf-4e40-4616-b8b9-155451cd1e17"
      },
      "execution_count": null,
      "outputs": [
        {
          "output_type": "execute_result",
          "data": {
            "text/plain": [
              "['\"TAGU', 'CHI\"', 'Tetsuya']"
            ]
          },
          "metadata": {},
          "execution_count": 28
        }
      ]
    },
    {
      "cell_type": "markdown",
      "source": [
        "このように、読み込んだ各行を単純に`,`で分割することはできないのです。\n",
        "\n",
        "#### file objectで読み込んでcsvモジュールでパースする\n",
        "\n",
        "以下に`file boject`を使ってファイルを読み込み、`csvモジュール`でパースするコードを例示します。csvファイルの1行目に列名が記載されている場合、[DictReader](https://docs.python.org/ja/3/library/csv.html#csv.DictReader)を使うと列名をKeyとする[dict](https://docs.python.org/ja/3/library/stdtypes.html?highlight=dict#dict)にパースされます。"
      ],
      "metadata": {
        "id": "gDk475Zi5jfO"
      }
    },
    {
      "cell_type": "code",
      "source": [
        "import csv\n",
        "with open('user.csv', newline='') as csvfile:\n",
        "  user_list = list(csv.DictReader(csvfile))\n",
        "\n",
        "user_list"
      ],
      "metadata": {
        "colab": {
          "base_uri": "https://localhost:8080/"
        },
        "id": "P8Fp2Q4n8DcA",
        "outputId": "5ac403c5-3694-4356-9ba5-de7c38e3e048"
      },
      "execution_count": null,
      "outputs": [
        {
          "output_type": "execute_result",
          "data": {
            "text/plain": [
              "[OrderedDict([('family name', 'TAGU,CHI'), ('personal name', 'Tetsuya')]),\n",
              " OrderedDict([('family name', 'TA\"KATA'), ('personal name', 'Yoshinao')])]"
            ]
          },
          "metadata": {},
          "execution_count": 29
        }
      ]
    },
    {
      "cell_type": "markdown",
      "source": [
        "DictReaderを使ってdictにパースにしたので、次のコードのように、csvファイルの列名で要素にアクセスできます。"
      ],
      "metadata": {
        "id": "OSE6t4FbFNA6"
      }
    },
    {
      "cell_type": "code",
      "source": [
        "import pandas\n",
        "\n",
        "pandas.DataFrame(user_list)"
      ],
      "metadata": {
        "colab": {
          "base_uri": "https://localhost:8080/",
          "height": 112
        },
        "id": "31ZTeokRFWWr",
        "outputId": "a0ebef3d-5b71-41cd-ab75-58b77581d594"
      },
      "execution_count": null,
      "outputs": [
        {
          "output_type": "execute_result",
          "data": {
            "text/plain": [
              "  family name personal name\n",
              "0    TAGU,CHI       Tetsuya\n",
              "1     TA\"KATA      Yoshinao"
            ],
            "text/html": [
              "\n",
              "  <div id=\"df-e84e4409-7610-4f39-8451-f9844cc8b188\">\n",
              "    <div class=\"colab-df-container\">\n",
              "      <div>\n",
              "<style scoped>\n",
              "    .dataframe tbody tr th:only-of-type {\n",
              "        vertical-align: middle;\n",
              "    }\n",
              "\n",
              "    .dataframe tbody tr th {\n",
              "        vertical-align: top;\n",
              "    }\n",
              "\n",
              "    .dataframe thead th {\n",
              "        text-align: right;\n",
              "    }\n",
              "</style>\n",
              "<table border=\"1\" class=\"dataframe\">\n",
              "  <thead>\n",
              "    <tr style=\"text-align: right;\">\n",
              "      <th></th>\n",
              "      <th>family name</th>\n",
              "      <th>personal name</th>\n",
              "    </tr>\n",
              "  </thead>\n",
              "  <tbody>\n",
              "    <tr>\n",
              "      <th>0</th>\n",
              "      <td>TAGU,CHI</td>\n",
              "      <td>Tetsuya</td>\n",
              "    </tr>\n",
              "    <tr>\n",
              "      <th>1</th>\n",
              "      <td>TA\"KATA</td>\n",
              "      <td>Yoshinao</td>\n",
              "    </tr>\n",
              "  </tbody>\n",
              "</table>\n",
              "</div>\n",
              "      <button class=\"colab-df-convert\" onclick=\"convertToInteractive('df-e84e4409-7610-4f39-8451-f9844cc8b188')\"\n",
              "              title=\"Convert this dataframe to an interactive table.\"\n",
              "              style=\"display:none;\">\n",
              "        \n",
              "  <svg xmlns=\"http://www.w3.org/2000/svg\" height=\"24px\"viewBox=\"0 0 24 24\"\n",
              "       width=\"24px\">\n",
              "    <path d=\"M0 0h24v24H0V0z\" fill=\"none\"/>\n",
              "    <path d=\"M18.56 5.44l.94 2.06.94-2.06 2.06-.94-2.06-.94-.94-2.06-.94 2.06-2.06.94zm-11 1L8.5 8.5l.94-2.06 2.06-.94-2.06-.94L8.5 2.5l-.94 2.06-2.06.94zm10 10l.94 2.06.94-2.06 2.06-.94-2.06-.94-.94-2.06-.94 2.06-2.06.94z\"/><path d=\"M17.41 7.96l-1.37-1.37c-.4-.4-.92-.59-1.43-.59-.52 0-1.04.2-1.43.59L10.3 9.45l-7.72 7.72c-.78.78-.78 2.05 0 2.83L4 21.41c.39.39.9.59 1.41.59.51 0 1.02-.2 1.41-.59l7.78-7.78 2.81-2.81c.8-.78.8-2.07 0-2.86zM5.41 20L4 18.59l7.72-7.72 1.47 1.35L5.41 20z\"/>\n",
              "  </svg>\n",
              "      </button>\n",
              "      \n",
              "  <style>\n",
              "    .colab-df-container {\n",
              "      display:flex;\n",
              "      flex-wrap:wrap;\n",
              "      gap: 12px;\n",
              "    }\n",
              "\n",
              "    .colab-df-convert {\n",
              "      background-color: #E8F0FE;\n",
              "      border: none;\n",
              "      border-radius: 50%;\n",
              "      cursor: pointer;\n",
              "      display: none;\n",
              "      fill: #1967D2;\n",
              "      height: 32px;\n",
              "      padding: 0 0 0 0;\n",
              "      width: 32px;\n",
              "    }\n",
              "\n",
              "    .colab-df-convert:hover {\n",
              "      background-color: #E2EBFA;\n",
              "      box-shadow: 0px 1px 2px rgba(60, 64, 67, 0.3), 0px 1px 3px 1px rgba(60, 64, 67, 0.15);\n",
              "      fill: #174EA6;\n",
              "    }\n",
              "\n",
              "    [theme=dark] .colab-df-convert {\n",
              "      background-color: #3B4455;\n",
              "      fill: #D2E3FC;\n",
              "    }\n",
              "\n",
              "    [theme=dark] .colab-df-convert:hover {\n",
              "      background-color: #434B5C;\n",
              "      box-shadow: 0px 1px 3px 1px rgba(0, 0, 0, 0.15);\n",
              "      filter: drop-shadow(0px 1px 2px rgba(0, 0, 0, 0.3));\n",
              "      fill: #FFFFFF;\n",
              "    }\n",
              "  </style>\n",
              "\n",
              "      <script>\n",
              "        const buttonEl =\n",
              "          document.querySelector('#df-e84e4409-7610-4f39-8451-f9844cc8b188 button.colab-df-convert');\n",
              "        buttonEl.style.display =\n",
              "          google.colab.kernel.accessAllowed ? 'block' : 'none';\n",
              "\n",
              "        async function convertToInteractive(key) {\n",
              "          const element = document.querySelector('#df-e84e4409-7610-4f39-8451-f9844cc8b188');\n",
              "          const dataTable =\n",
              "            await google.colab.kernel.invokeFunction('convertToInteractive',\n",
              "                                                     [key], {});\n",
              "          if (!dataTable) return;\n",
              "\n",
              "          const docLinkHtml = 'Like what you see? Visit the ' +\n",
              "            '<a target=\"_blank\" href=https://colab.research.google.com/notebooks/data_table.ipynb>data table notebook</a>'\n",
              "            + ' to learn more about interactive tables.';\n",
              "          element.innerHTML = '';\n",
              "          dataTable['output_type'] = 'display_data';\n",
              "          await google.colab.output.renderOutput(dataTable, element);\n",
              "          const docLink = document.createElement('div');\n",
              "          docLink.innerHTML = docLinkHtml;\n",
              "          element.appendChild(docLink);\n",
              "        }\n",
              "      </script>\n",
              "    </div>\n",
              "  </div>\n",
              "  "
            ]
          },
          "metadata": {},
          "execution_count": 30
        }
      ]
    },
    {
      "cell_type": "code",
      "source": [
        "print(user_list[0]['family name'])print(user_list[0]['personal name'])"
      ],
      "metadata": {
        "colab": {
          "base_uri": "https://localhost:8080/"
        },
        "id": "9ZVYC49DFNse",
        "outputId": "05dda1e7-5e6f-4882-9fd2-5efde898be95"
      },
      "execution_count": null,
      "outputs": [
        {
          "output_type": "stream",
          "name": "stdout",
          "text": [
            "TAGU,CHI\n",
            "Tetsuya\n"
          ]
        }
      ]
    },
    {
      "cell_type": "markdown",
      "source": [
        "#### マジックコマンドを使ってファイルを読み込んでcsvモジュールでパースする\n",
        "\n",
        "`!`を使って`cat`を実行しその結果を受けた変数をcsvモジュールでパースするコードを例示します。"
      ],
      "metadata": {
        "id": "-XkmOGoKAOEL"
      }
    },
    {
      "cell_type": "code",
      "source": [
        "import csv\n",
        "l = !cat user.csv\n",
        "user_list = list(csv.DictReader(l))\n",
        "user_list"
      ],
      "metadata": {
        "colab": {
          "base_uri": "https://localhost:8080/"
        },
        "id": "5jx1OE0XB3Xe",
        "outputId": "f61225ba-2f3c-43e4-999a-0b9a0a70deaa"
      },
      "execution_count": null,
      "outputs": [
        {
          "output_type": "execute_result",
          "data": {
            "text/plain": [
              "[OrderedDict([('family name', 'TAGU,CHI'), ('personal name', 'Tetsuya')]),\n",
              " OrderedDict([('family name', 'TA\"KATA'), ('personal name', 'Yoshinao')])]"
            ]
          },
          "metadata": {},
          "execution_count": 20
        }
      ]
    },
    {
      "cell_type": "markdown",
      "source": [
        "`file object`を用いた例では`csv.DictReader`の引数に`file objcect`を渡していましたが、`DictReader`はリストを受け取ることも可能なので、`!`で`cat`を実行した結果のリストを渡しています。"
      ],
      "metadata": {
        "id": "lEFPKsfDAmGe"
      }
    },
    {
      "cell_type": "markdown",
      "source": [
        "## テキストを出力するいくつかの方法\n",
        "\n",
        "Colabでテキストを処理したら、その結果を出力しなければなりません。このセクションでは、そのいくつかの方法について説明します。"
      ],
      "metadata": {
        "id": "OxE7fyZ-XRq7"
      }
    },
    {
      "cell_type": "markdown",
      "source": [
        "### アウトプットセルに出力する\n",
        "\n",
        "最も単純な方法は、コードセルのアウトプットに書き出し、それをマウスで選択してコピーする方法でしょう。"
      ],
      "metadata": {
        "id": "epzociBhJNDu"
      }
    },
    {
      "cell_type": "code",
      "source": [
        "user_list = [\n",
        "        'useradd taguchi',\n",
        "        'useradd tanaka',\n",
        "        'useradd iwamoto',\n",
        "        'useradd nonaka',\n",
        "        'useradd tsukamoto'\n",
        "]\n",
        "\n",
        "for user in user_list:\n",
        "  print(user)"
      ],
      "metadata": {
        "id": "jqgiWDFqWOdm",
        "colab": {
          "base_uri": "https://localhost:8080/"
        },
        "outputId": "b6c86769-1ec1-42d6-eaae-921e6212824f"
      },
      "execution_count": null,
      "outputs": [
        {
          "output_type": "stream",
          "name": "stdout",
          "text": [
            "useradd taguchi\n",
            "useradd tanaka\n",
            "useradd iwamoto\n",
            "useradd nonaka\n",
            "useradd tsukamoto\n"
          ]
        }
      ]
    },
    {
      "cell_type": "markdown",
      "source": [
        "### Pythonのfile objectを使ってファイルに書き出す\n",
        "\n",
        "ファイルを書き出すときには、ファイルを読み込むときと同じように、[open](https://docs.python.org/ja/3/library/functions.html#open)関数を使います。ただし、mode引数によってファイルを開く際のモードを指定しなければなりません。\n",
        "mode引数を指定しなかった場合、mode引数のデフォルトは`r`でこれは、読み取りを表します。`w`は書き込みですが、ファイルが存在する場合現在の内容を全て捨てます、`x`も書き込みですが、ファイルが存在する場合は失敗します。`a`も同じく書き込みですが、ファイルが存在する場合は末尾に追記します。\n",
        "\n",
        "[with](https://docs.python.org/ja/3/reference/compound_stmts.html#with)文でラップしておくと、file bcjectはwith文ブロックを抜ける際に閉じられます。ファイルを書き込む際にfile objectを閉じ忘れた場合、ファイルがディスクに書き込まれないことがあるので、with文でラップしておくのが安全です。with文でラップできない場合はfile objectのclose()メソッドを忘れずに実行します。\n",
        "\n",
        "これはPythonでファイルを読み込むときの典型的な方法です。"
      ],
      "metadata": {
        "id": "uTlvMiPNLh0N"
      }
    },
    {
      "cell_type": "code",
      "source": [
        "user_list = [\n",
        "        'useradd taguchi',\n",
        "        'useradd tanaka',\n",
        "        'useradd iwamoto',\n",
        "        'useradd nonaka',\n",
        "        'useradd tsukamoto'\n",
        "]\n",
        "\n",
        "with open('add_user.txt', mode='w') as f:\n",
        "  for user in user_list:\n",
        "    f.write(user)"
      ],
      "metadata": {
        "id": "AAqQMmTxJzFK"
      },
      "execution_count": null,
      "outputs": []
    },
    {
      "cell_type": "markdown",
      "source": [
        "writeメソッドは受け取った文字列をそのままファイルに書き込みます。そのため、書き込んだファイルは次のようになります。"
      ],
      "metadata": {
        "id": "dowRrVSjTToq"
      }
    },
    {
      "cell_type": "code",
      "source": [
        "!cat add_user.txt"
      ],
      "metadata": {
        "colab": {
          "base_uri": "https://localhost:8080/"
        },
        "id": "XUBtujdFQqsJ",
        "outputId": "70e01be8-9a74-410d-c1d1-faa61e6a0a21"
      },
      "execution_count": null,
      "outputs": [
        {
          "output_type": "stream",
          "name": "stdout",
          "text": [
            "useradd taguchiuseradd tanakauseradd iwamotouseradd nonakauseradd tsukamoto"
          ]
        }
      ]
    },
    {
      "cell_type": "markdown",
      "source": [
        "このため、改行が必要な場合は改行コードも書き出す必要があります。"
      ],
      "metadata": {
        "id": "dADvfpWeUqbl"
      }
    },
    {
      "cell_type": "code",
      "source": [
        "user_list = [\n",
        "        'useradd taguchi',\n",
        "        'useradd tanaka',\n",
        "        'useradd iwamoto',\n",
        "        'useradd nonaka',\n",
        "        'useradd tsukamoto'\n",
        "]\n",
        "\n",
        "with open('add_user.txt', mode='w') as f:\n",
        "  for user in user_list:\n",
        "    f.write(user)\n",
        "    f.write(\"\\n\")\n",
        "\n",
        "!cat add_user.txt"
      ],
      "metadata": {
        "colab": {
          "base_uri": "https://localhost:8080/"
        },
        "id": "vDbXZrcyQtTN",
        "outputId": "e648ac53-e443-43b7-afe9-60614946096b"
      },
      "execution_count": null,
      "outputs": [
        {
          "output_type": "stream",
          "name": "stdout",
          "text": [
            "useradd taguchi\n",
            "useradd tanaka\n",
            "useradd iwamoto\n",
            "useradd nonaka\n",
            "useradd tsukamoto\n"
          ]
        }
      ]
    },
    {
      "cell_type": "markdown",
      "source": [
        "また、writelinesメソッドにリストを渡すことで、リストをまとめて書き出すことができます。"
      ],
      "metadata": {
        "id": "s7HaiKe9VIa4"
      }
    },
    {
      "cell_type": "code",
      "source": [
        "user_list = [\n",
        "        'useradd taguchi',\n",
        "        'useradd tanaka',\n",
        "        'useradd iwamoto',\n",
        "        'useradd nonaka',\n",
        "        'useradd tsukamoto'\n",
        "]\n",
        "\n",
        "with open('add_user.txt', mode='w') as f:\n",
        "    f.writelines(user_list)"
      ],
      "metadata": {
        "id": "JUc0bs-wUpRX"
      },
      "execution_count": null,
      "outputs": []
    },
    {
      "cell_type": "markdown",
      "source": [
        "この場合も、改行コードは追加されません。"
      ],
      "metadata": {
        "id": "HIBMuBWhVXPm"
      }
    },
    {
      "cell_type": "code",
      "source": [
        "!cat add_user.txt"
      ],
      "metadata": {
        "colab": {
          "base_uri": "https://localhost:8080/"
        },
        "id": "XpUWXFXoVFIr",
        "outputId": "2506ea03-33d8-4318-877c-d07b9b9bb6f2"
      },
      "execution_count": null,
      "outputs": [
        {
          "output_type": "stream",
          "name": "stdout",
          "text": [
            "useradd taguchiuseradd tanakauseradd iwamotouseradd nonakauseradd tsukamoto"
          ]
        }
      ]
    },
    {
      "cell_type": "markdown",
      "source": [
        "このため、リスト内の文字列に改行コードを含ませておく必要があります。"
      ],
      "metadata": {
        "id": "GKy6a536Vrr1"
      }
    },
    {
      "cell_type": "code",
      "source": [
        "user_list = [\n",
        "        'useradd taguchi\\n',\n",
        "        'useradd tanaka\\n',\n",
        "        'useradd iwamoto\\n',\n",
        "        'useradd nonaka\\n',\n",
        "        'useradd tsukamoto\\n'\n",
        "]\n",
        "\n",
        "with open('add_user.txt', mode='w') as f:\n",
        "    f.writelines(user_list)\n",
        "\n",
        "!cat add_user.txt"
      ],
      "metadata": {
        "colab": {
          "base_uri": "https://localhost:8080/"
        },
        "id": "kWsQwPcOVWuT",
        "outputId": "af60da60-6e30-434a-972c-a6974ed65289"
      },
      "execution_count": null,
      "outputs": [
        {
          "output_type": "stream",
          "name": "stdout",
          "text": [
            "useradd taguchi\n",
            "useradd tanaka\n",
            "useradd iwamoto\n",
            "useradd nonaka\n",
            "useradd tsukamoto\n"
          ]
        }
      ]
    },
    {
      "cell_type": "markdown",
      "source": [
        "### writefileマジックを使ってファイルを書き出す...ただし......\n",
        "\n",
        "`%%writefile`マジックコマンドを使うと、セルの内容をファイルへ書き出すことができます。ただし、このマジックコマンドはセルの内容を**そのまま**ファイルへ書き出すもので、変数を展開することができません。"
      ],
      "metadata": {
        "id": "Y5iQ-3ye1MOf"
      }
    },
    {
      "cell_type": "markdown",
      "source": [
        "変数`str1`を定義して"
      ],
      "metadata": {
        "id": "kgpDP2Bv2Vh1"
      }
    },
    {
      "cell_type": "code",
      "source": [
        "str1 = 'foo'"
      ],
      "metadata": {
        "id": "CNrWUf6q1-2z"
      },
      "execution_count": 2,
      "outputs": []
    },
    {
      "cell_type": "markdown",
      "source": [
        "`%%writefile`マジックでstr1.txtに書き出す"
      ],
      "metadata": {
        "id": "xQaU8cAb2YKE"
      }
    },
    {
      "cell_type": "code",
      "source": [
        "%%writefile str1.txt\n",
        "str1"
      ],
      "metadata": {
        "id": "HTy5p0gdVpHG",
        "colab": {
          "base_uri": "https://localhost:8080/"
        },
        "outputId": "49742214-e296-4637-b318-2cdcc5ebb6cd"
      },
      "execution_count": 3,
      "outputs": [
        {
          "output_type": "stream",
          "name": "stdout",
          "text": [
            "Overwriting str1.txt\n"
          ]
        }
      ]
    },
    {
      "cell_type": "markdown",
      "source": [
        "そのファイルをcatすると"
      ],
      "metadata": {
        "id": "gYsImyxM2dwI"
      }
    },
    {
      "cell_type": "code",
      "source": [
        "!cat str1.txt"
      ],
      "metadata": {
        "colab": {
          "base_uri": "https://localhost:8080/"
        },
        "id": "C1Z2qeOU2E5Y",
        "outputId": "5e034ded-2386-4042-f862-1ba526d36d94"
      },
      "execution_count": 4,
      "outputs": [
        {
          "output_type": "stream",
          "name": "stdout",
          "text": [
            "str1"
          ]
        }
      ]
    },
    {
      "cell_type": "markdown",
      "source": [
        "変数の内容ではなく、\"str1\"という文字列として出力されている。"
      ],
      "metadata": {
        "id": "nUYLEIL42gNb"
      }
    },
    {
      "cell_type": "markdown",
      "source": [
        "## 文字列型の基礎\n",
        "\n",
        "このセクションでは文字列型の基礎について説明します\n"
      ],
      "metadata": {
        "id": "XC9aPWHX5waN"
      }
    },
    {
      "cell_type": "markdown",
      "source": [
        "### 文字列の記述"
      ],
      "metadata": {
        "id": "lvfq2Abi_yn7"
      }
    },
    {
      "cell_type": "markdown",
      "source": [
        "Pythonで文字列を記述するには、`'...'`シングルクォート、`\"...\"`ダブルクォート、または`'''...'''`トリプルクォート(3つのシングルクォート)で囲みます。`\"\"\"...\"\"\"`(3つのダブルクォート)で囲んだ場合は3つのシングルクォートで囲む場合と同じになります。"
      ],
      "metadata": {
        "id": "E3yGDW6h62iw"
      }
    },
    {
      "cell_type": "code",
      "source": [
        "'\"ダブル\"クォートを埋め込むことができます'"
      ],
      "metadata": {
        "colab": {
          "base_uri": "https://localhost:8080/",
          "height": 35
        },
        "id": "nOosvLa46I5i",
        "outputId": "3841a7e5-cbed-4e34-b82c-3bd25785cd76"
      },
      "execution_count": 13,
      "outputs": [
        {
          "output_type": "execute_result",
          "data": {
            "text/plain": [
              "'\"ダブル\"クォートを埋め込むことができます'"
            ],
            "application/vnd.google.colaboratory.intrinsic+json": {
              "type": "string"
            }
          },
          "metadata": {},
          "execution_count": 13
        }
      ]
    },
    {
      "cell_type": "code",
      "source": [
        "\"'シングル'クォートを埋め込むことができます\""
      ],
      "metadata": {
        "colab": {
          "base_uri": "https://localhost:8080/",
          "height": 35
        },
        "id": "RlMG-hRQ6o93",
        "outputId": "1b485dce-5b8c-4eab-de2b-eddbb23b0ae4"
      },
      "execution_count": 14,
      "outputs": [
        {
          "output_type": "execute_result",
          "data": {
            "text/plain": [
              "\"'シングル'クォートを埋め込むことができます\""
            ],
            "application/vnd.google.colaboratory.intrinsic+json": {
              "type": "string"
            }
          },
          "metadata": {},
          "execution_count": 14
        }
      ]
    },
    {
      "cell_type": "code",
      "source": [
        "'''改行を\n",
        "埋め込むことができます。'''"
      ],
      "metadata": {
        "colab": {
          "base_uri": "https://localhost:8080/",
          "height": 35
        },
        "id": "PbmhFG8K7chd",
        "outputId": "29cc64d6-55f7-42ea-d10a-d750c8128d33"
      },
      "execution_count": 16,
      "outputs": [
        {
          "output_type": "execute_result",
          "data": {
            "text/plain": [
              "'改行を\\n埋め込むことができます。'"
            ],
            "application/vnd.google.colaboratory.intrinsic+json": {
              "type": "string"
            }
          },
          "metadata": {},
          "execution_count": 16
        }
      ]
    },
    {
      "cell_type": "markdown",
      "source": [
        "特殊文字は`\\`(バックスラッシュ)で始まり、シングルクォートで囲んだ場合でも特殊文字として扱われます。(シングルクォートで囲んだ場合は特殊文字として使わないプログラミング言語もありますが、Pythonは特殊文字として扱います。)"
      ],
      "metadata": {
        "id": "mjSguc6T-RYs"
      }
    },
    {
      "cell_type": "code",
      "source": [
        "print('Hello\\nWorld!')"
      ],
      "metadata": {
        "colab": {
          "base_uri": "https://localhost:8080/"
        },
        "id": "9LNDcRf2-m3r",
        "outputId": "2cb8aa75-401f-4cc2-b9e0-66ada0c86e7a"
      },
      "execution_count": 27,
      "outputs": [
        {
          "output_type": "stream",
          "name": "stdout",
          "text": [
            "Hello\n",
            "World!\n"
          ]
        }
      ]
    },
    {
      "cell_type": "code",
      "source": [
        "print(\"Hello\\nWorld!\")"
      ],
      "metadata": {
        "colab": {
          "base_uri": "https://localhost:8080/"
        },
        "id": "9C04cpdA-sYT",
        "outputId": "ad8a6a97-a490-4748-deb1-b616307a0878"
      },
      "execution_count": 28,
      "outputs": [
        {
          "output_type": "stream",
          "name": "stdout",
          "text": [
            "Hello\n",
            "World!\n"
          ]
        }
      ]
    },
    {
      "cell_type": "markdown",
      "source": [
        "`\\`(バックスラッシュ)とそれに続く文字を特殊文字として解釈されたくない場合はクォートの前に`r`をつけて`rwa strings`にします。"
      ],
      "metadata": {
        "id": "5c1vOR80_NJM"
      }
    },
    {
      "cell_type": "code",
      "source": [
        "print(r\"Hello\\nWorld!!\")"
      ],
      "metadata": {
        "colab": {
          "base_uri": "https://localhost:8080/"
        },
        "id": "YyKwQvhL_Nta",
        "outputId": "b5781af6-2157-40a4-85e8-b48889142f8c"
      },
      "execution_count": 29,
      "outputs": [
        {
          "output_type": "stream",
          "name": "stdout",
          "text": [
            "Hello\\nWorld!!\n"
          ]
        }
      ]
    },
    {
      "cell_type": "markdown",
      "source": [
        "Python3.6から導入されたf-stringを使うと、文字列に変数を指定することができます。\n",
        "\n",
        "クォートの前に`f`をつけるとf-stringになり、クォートに囲まれた文字列の中に`{}`で囲って変数を指定します。"
      ],
      "metadata": {
        "id": "1I6C9JF7V2D1"
      }
    },
    {
      "cell_type": "code",
      "source": [
        "s = 'Hello'\n",
        "f'{s} World!'"
      ],
      "metadata": {
        "colab": {
          "base_uri": "https://localhost:8080/",
          "height": 35
        },
        "id": "TXMUuD_7WGMI",
        "outputId": "d66879e7-74d9-4e3b-bb18-1256cb1327dc"
      },
      "execution_count": 132,
      "outputs": [
        {
          "output_type": "execute_result",
          "data": {
            "text/plain": [
              "'Hello World!'"
            ],
            "application/vnd.google.colaboratory.intrinsic+json": {
              "type": "string"
            }
          },
          "metadata": {},
          "execution_count": 132
        }
      ]
    },
    {
      "cell_type": "markdown",
      "source": [
        "### 文字列の連結"
      ],
      "metadata": {
        "id": "Eaby5pSg__Xj"
      }
    },
    {
      "cell_type": "markdown",
      "source": [
        "文字列は`+`演算子で連結することができます。"
      ],
      "metadata": {
        "id": "YHhEHCgnAIwV"
      }
    },
    {
      "cell_type": "code",
      "source": [
        "s1 = 'Hello'\n",
        "s2 = 'World!'\n",
        "s3 = s1 + ' ' + s2\n",
        "\n",
        "print(s3)"
      ],
      "metadata": {
        "colab": {
          "base_uri": "https://localhost:8080/"
        },
        "id": "v4jGqgNS95gY",
        "outputId": "89e40d0f-5d8f-488a-9eb4-ca91d32faf9b"
      },
      "execution_count": 32,
      "outputs": [
        {
          "output_type": "stream",
          "name": "stdout",
          "text": [
            "Hello World!\n"
          ]
        }
      ]
    },
    {
      "cell_type": "markdown",
      "source": [
        "先述のf-stringを応用して文字列を連結することもできます。"
      ],
      "metadata": {
        "id": "j0MK9WtmWqnA"
      }
    },
    {
      "cell_type": "code",
      "source": [
        "s1 = 'Hello'\n",
        "s2 = 'World!'\n",
        "s3 = f'{s1} {s2}'\n",
        "\n",
        "print(s3)"
      ],
      "metadata": {
        "colab": {
          "base_uri": "https://localhost:8080/"
        },
        "id": "Y9O9UFj4W0MK",
        "outputId": "43254e3d-79ff-4cfd-8551-7454a69351b8"
      },
      "execution_count": 133,
      "outputs": [
        {
          "output_type": "stream",
          "name": "stdout",
          "text": [
            "Hello World!\n"
          ]
        }
      ]
    },
    {
      "cell_type": "markdown",
      "source": [
        "また、文字列の`join`メソッドにリストを渡すと、リストの各要素を文字列で連結することができます。"
      ],
      "metadata": {
        "id": "yexY2TpSXHAU"
      }
    },
    {
      "cell_type": "code",
      "source": [
        "s1 = 'Hello'\n",
        "s2 = 'World!'\n",
        "s3 = ' | '.join([s1, s2, s1, s2])\n",
        "\n",
        "print(s3)"
      ],
      "metadata": {
        "colab": {
          "base_uri": "https://localhost:8080/"
        },
        "id": "KSPWqy8MW8WA",
        "outputId": "f0140343-13c3-4b6a-f7c8-8998430a77da"
      },
      "execution_count": 140,
      "outputs": [
        {
          "output_type": "stream",
          "name": "stdout",
          "text": [
            "Hello | World! | Hello | World!\n"
          ]
        }
      ]
    },
    {
      "cell_type": "markdown",
      "source": [
        "### 文字列からインデックスを指定して文字を取り出す\n",
        "\n",
        "Pythonの文字列はindex(添字)を指定して、文字を取り出すことができます。最初の文字のインデックスは0です。"
      ],
      "metadata": {
        "id": "xjP34EtFBNSv"
      }
    },
    {
      "cell_type": "markdown",
      "source": [
        "サンプルコードで使用する文字列を変数`s`として定義しておきます。"
      ],
      "metadata": {
        "id": "XvWN6NuIGKRo"
      }
    },
    {
      "cell_type": "code",
      "source": [
        "s = r'Hello World!'\n",
        "print(s)"
      ],
      "metadata": {
        "colab": {
          "base_uri": "https://localhost:8080/"
        },
        "id": "kK1WYFLOGCe7",
        "outputId": "93783db9-eb60-47ae-bae9-47a20699dba5"
      },
      "execution_count": 76,
      "outputs": [
        {
          "output_type": "stream",
          "name": "stdout",
          "text": [
            "Hello World!\n"
          ]
        }
      ]
    },
    {
      "cell_type": "markdown",
      "source": [
        "indexを指定すると、その位置の文字を取り出すことができます。"
      ],
      "metadata": {
        "id": "phre3tMbHK4o"
      }
    },
    {
      "cell_type": "code",
      "source": [
        "for i in range(len(s)):\n",
        "  print(f'{i} : ', s[i])"
      ],
      "metadata": {
        "colab": {
          "base_uri": "https://localhost:8080/"
        },
        "id": "iDiP-JoQHy_P",
        "outputId": "a0254a40-fe57-4084-d28f-2955aebac87e"
      },
      "execution_count": 89,
      "outputs": [
        {
          "output_type": "stream",
          "name": "stdout",
          "text": [
            "0 :  H\n",
            "1 :  e\n",
            "2 :  l\n",
            "3 :  l\n",
            "4 :  o\n",
            "5 :   \n",
            "6 :  W\n",
            "7 :  o\n",
            "8 :  r\n",
            "9 :  l\n",
            "10 :  d\n",
            "11 :  !\n"
          ]
        }
      ]
    },
    {
      "cell_type": "markdown",
      "source": [
        "インデックスに負の数を指定すると文字列の後ろから数えて、その位置の文字を取り出します。"
      ],
      "metadata": {
        "id": "PlHFFAwLCQu6"
      }
    },
    {
      "cell_type": "code",
      "source": [
        "for i in range(-1, -(len(s)) - 1, -1):\n",
        "  print(f'{i} : ', s[i])"
      ],
      "metadata": {
        "colab": {
          "base_uri": "https://localhost:8080/"
        },
        "id": "gmaI-IJeIgyP",
        "outputId": "39b45385-ca73-4e2c-e97e-7261cd837253"
      },
      "execution_count": 94,
      "outputs": [
        {
          "output_type": "stream",
          "name": "stdout",
          "text": [
            "-1 :  !\n",
            "-2 :  d\n",
            "-3 :  l\n",
            "-4 :  r\n",
            "-5 :  o\n",
            "-6 :  W\n",
            "-7 :   \n",
            "-8 :  o\n",
            "-9 :  l\n",
            "-10 :  l\n",
            "-11 :  e\n",
            "-12 :  H\n"
          ]
        }
      ]
    },
    {
      "cell_type": "markdown",
      "source": [
        "### 文字列のスライス"
      ],
      "metadata": {
        "id": "BKVk-B9UCq7w"
      }
    },
    {
      "cell_type": "markdown",
      "source": [
        "Pythonの文字列はスライスをサポートしています。スライスを使うと文字列の一部分を取り出すことができます。\n"
      ],
      "metadata": {
        "id": "Kh-P4BkMCvhQ"
      }
    },
    {
      "cell_type": "markdown",
      "source": [
        "サンプルコードで使用する文字列を変数`s`として定義し、indexとその位置の文字を表示しておきます。"
      ],
      "metadata": {
        "id": "ymt17hGeHbmj"
      }
    },
    {
      "cell_type": "code",
      "source": [
        "s = r'Hello World!'\n",
        "\n",
        "for i in range(len(s)):\n",
        "  print(f'{i} ({-len(s)+i}): ', s[i])"
      ],
      "metadata": {
        "colab": {
          "base_uri": "https://localhost:8080/"
        },
        "outputId": "a4a64f7a-e8f7-4bd0-c988-8e523f023167",
        "id": "enl__GWOHbmk"
      },
      "execution_count": 103,
      "outputs": [
        {
          "output_type": "stream",
          "name": "stdout",
          "text": [
            "0 (-12):  H\n",
            "1 (-11):  e\n",
            "2 (-10):  l\n",
            "3 (-9):  l\n",
            "4 (-8):  o\n",
            "5 (-7):   \n",
            "6 (-6):  W\n",
            "7 (-5):  o\n",
            "8 (-4):  r\n",
            "9 (-3):  l\n",
            "10 (-2):  d\n",
            "11 (-1):  !\n"
          ]
        }
      ]
    },
    {
      "cell_type": "markdown",
      "source": [
        "スライスは`文字列[index:index]`と記述し、1つ目に指定したindexの文字から、2つ目に指定したindexの**1つ前の文字**を取り出します。\n"
      ],
      "metadata": {
        "id": "x-5Tb2YYJOYO"
      }
    },
    {
      "cell_type": "code",
      "source": [
        "print(s[1:5])"
      ],
      "metadata": {
        "colab": {
          "base_uri": "https://localhost:8080/"
        },
        "id": "kQvplBi3CP-P",
        "outputId": "1cdb2650-90b6-46e1-f61e-0f7af5514acd"
      },
      "execution_count": 72,
      "outputs": [
        {
          "output_type": "stream",
          "name": "stdout",
          "text": [
            "ello\n"
          ]
        }
      ]
    },
    {
      "cell_type": "markdown",
      "source": [
        "1つ目のindexを省略すると0と見做されます。"
      ],
      "metadata": {
        "id": "_1Z8RxKnJUUa"
      }
    },
    {
      "cell_type": "code",
      "source": [
        "print(s[:5])"
      ],
      "metadata": {
        "colab": {
          "base_uri": "https://localhost:8080/"
        },
        "id": "huPs5IfyJVk6",
        "outputId": "0afc1171-9b3d-4d3c-cfbb-ebba7cc4f290"
      },
      "execution_count": 97,
      "outputs": [
        {
          "output_type": "stream",
          "name": "stdout",
          "text": [
            "Hello\n"
          ]
        }
      ]
    },
    {
      "cell_type": "markdown",
      "source": [
        "2つ目のindexを省略すると文字列の末尾までを取得します。"
      ],
      "metadata": {
        "id": "eBXJZu4RJfku"
      }
    },
    {
      "cell_type": "code",
      "source": [
        "print(s[6:])"
      ],
      "metadata": {
        "colab": {
          "base_uri": "https://localhost:8080/"
        },
        "id": "uASOrlmuJXTU",
        "outputId": "5b325678-f9b5-46cb-f7ed-cf21fe321b1e"
      },
      "execution_count": 98,
      "outputs": [
        {
          "output_type": "stream",
          "name": "stdout",
          "text": [
            "World!\n"
          ]
        }
      ]
    },
    {
      "cell_type": "markdown",
      "source": [
        "2つ目のindexに1つ目のindexより小さな値を指定すると文字列を取り出せませんが、エラーにもならないので注意が必要です。"
      ],
      "metadata": {
        "id": "pAWKggp7Kc6w"
      }
    },
    {
      "cell_type": "code",
      "source": [
        "print(s[5:1])"
      ],
      "metadata": {
        "colab": {
          "base_uri": "https://localhost:8080/"
        },
        "id": "VKJwvgtsFt2s",
        "outputId": "af8297b5-5783-47d3-a0fd-42004077a7a1"
      },
      "execution_count": 105,
      "outputs": [
        {
          "output_type": "stream",
          "name": "stdout",
          "text": [
            "\n"
          ]
        }
      ]
    },
    {
      "cell_type": "markdown",
      "source": [
        "## 文字列の比較"
      ],
      "metadata": {
        "id": "w2NP5IjOP145"
      }
    },
    {
      "cell_type": "markdown",
      "source": [
        "### `==`と`!=`\n",
        "\n",
        "2つの文字列を比較する場合、同じ文字列であれば`==`演算子でTrueになり、異なる文字列であれば`!=`でTrueになります。"
      ],
      "metadata": {
        "id": "_Larq7taQkGc"
      }
    },
    {
      "cell_type": "code",
      "source": [
        "'Hello' == 'Hello'"
      ],
      "metadata": {
        "colab": {
          "base_uri": "https://localhost:8080/"
        },
        "id": "mGCyE_SkNj9m",
        "outputId": "669ef01e-7c48-4200-d208-969b9df827b7"
      },
      "execution_count": 112,
      "outputs": [
        {
          "output_type": "execute_result",
          "data": {
            "text/plain": [
              "True"
            ]
          },
          "metadata": {},
          "execution_count": 112
        }
      ]
    },
    {
      "cell_type": "code",
      "source": [
        "'Hello' != 'World'"
      ],
      "metadata": {
        "colab": {
          "base_uri": "https://localhost:8080/"
        },
        "id": "pbR3KdfIQLS6",
        "outputId": "aadb0a29-9f8c-4a29-a1b9-1d76ae76570f"
      },
      "execution_count": 116,
      "outputs": [
        {
          "output_type": "execute_result",
          "data": {
            "text/plain": [
              "True"
            ]
          },
          "metadata": {},
          "execution_count": 116
        }
      ]
    },
    {
      "cell_type": "markdown",
      "source": [
        "大文字と小文字は別の文字として扱われます。"
      ],
      "metadata": {
        "id": "P-cFCFxcSHaJ"
      }
    },
    {
      "cell_type": "code",
      "source": [
        "'H' == 'h'"
      ],
      "metadata": {
        "colab": {
          "base_uri": "https://localhost:8080/"
        },
        "id": "ISloj0ohQIuh",
        "outputId": "3490c173-53d4-4ee0-8eb4-f7af1afe8977"
      },
      "execution_count": 121,
      "outputs": [
        {
          "output_type": "execute_result",
          "data": {
            "text/plain": [
              "False"
            ]
          },
          "metadata": {},
          "execution_count": 121
        }
      ]
    },
    {
      "cell_type": "markdown",
      "source": [
        "スライスと組み合わせることで、ある文字列の特定の位置から抜き出した文字列を別の文字列と比較することができます。"
      ],
      "metadata": {
        "id": "PR0eM2h2RWuh"
      }
    },
    {
      "cell_type": "code",
      "source": [
        "s = r'Hello World!'\n",
        "print(s[:5])\n",
        "print(s[:5] == 'Hello')"
      ],
      "metadata": {
        "colab": {
          "base_uri": "https://localhost:8080/"
        },
        "id": "M9U8bRO0QPxQ",
        "outputId": "e37bdc54-0018-4e35-d502-a8f2bf899bf5"
      },
      "execution_count": 131,
      "outputs": [
        {
          "output_type": "stream",
          "name": "stdout",
          "text": [
            "Hello\n",
            "True\n"
          ]
        }
      ]
    },
    {
      "cell_type": "markdown",
      "source": [
        "### `startswith`と`endswith`\n",
        "\n",
        "文字列がある文字列で始まるかを判定する場合は`startswith`、ある文字列で終わるかを判定する場合は`endswith`メソッドを使うことができます。どちらのメソッドも間にsが入るので注意してください。(startwithではなくstart**s**with)"
      ],
      "metadata": {
        "id": "VoHp5GrTTmhV"
      }
    },
    {
      "cell_type": "code",
      "source": [
        "'Hello World!'.startswith('Hello')"
      ],
      "metadata": {
        "colab": {
          "base_uri": "https://localhost:8080/"
        },
        "id": "pA8NQgQWT9AM",
        "outputId": "246e0bcc-6e6b-4eee-c985-455e574c4b11"
      },
      "execution_count": 128,
      "outputs": [
        {
          "output_type": "execute_result",
          "data": {
            "text/plain": [
              "True"
            ]
          },
          "metadata": {},
          "execution_count": 128
        }
      ]
    },
    {
      "cell_type": "code",
      "source": [
        "'Hello World!'.endswith('World!')"
      ],
      "metadata": {
        "colab": {
          "base_uri": "https://localhost:8080/"
        },
        "id": "EsE1FXv4UMMK",
        "outputId": "6286d13f-7e75-4b95-c18d-14830c90dd2e"
      },
      "execution_count": 130,
      "outputs": [
        {
          "output_type": "execute_result",
          "data": {
            "text/plain": [
              "True"
            ]
          },
          "metadata": {},
          "execution_count": 130
        }
      ]
    },
    {
      "cell_type": "markdown",
      "source": [
        "### `in`と`not in`"
      ],
      "metadata": {
        "id": "L4xARvZgR3kW"
      }
    },
    {
      "cell_type": "markdown",
      "source": [
        "`in`演算子を使うと、ある文字列に別の文字列が含まれているかを判定することができます。含まれていないかを判定する場合は`not`演算子を加えて`not in`にします"
      ],
      "metadata": {
        "id": "Cl6gzeYoST_7"
      }
    },
    {
      "cell_type": "code",
      "source": [
        "'Hello' in 'Hello World!'"
      ],
      "metadata": {
        "colab": {
          "base_uri": "https://localhost:8080/"
        },
        "id": "xCBpM9L0STlP",
        "outputId": "a0e5245a-da5a-44a5-b0f2-6ce2f64f9c43"
      },
      "execution_count": 122,
      "outputs": [
        {
          "output_type": "execute_result",
          "data": {
            "text/plain": [
              "True"
            ]
          },
          "metadata": {},
          "execution_count": 122
        }
      ]
    },
    {
      "cell_type": "code",
      "source": [
        "'Python' not in 'Hello World!'"
      ],
      "metadata": {
        "colab": {
          "base_uri": "https://localhost:8080/"
        },
        "id": "aVvvqo0ORnYR",
        "outputId": "1e136b82-990d-4018-d161-fd6080da2134"
      },
      "execution_count": 124,
      "outputs": [
        {
          "output_type": "execute_result",
          "data": {
            "text/plain": [
              "True"
            ]
          },
          "metadata": {},
          "execution_count": 124
        }
      ]
    },
    {
      "cell_type": "markdown",
      "source": [
        "## 文字列操作"
      ],
      "metadata": {
        "id": "eEosSA4vVPXS"
      }
    },
    {
      "cell_type": "markdown",
      "source": [
        "### 文字列を全て大文字に変換する\n",
        "\n",
        "文字列を全て大文字に変換するときは、`upper`メソッドを使います。"
      ],
      "metadata": {
        "id": "7YJt5Zi-Y3PC"
      }
    },
    {
      "cell_type": "code",
      "source": [
        "s1 = 'Hello World!'\n",
        "s2 = s1.upper()\n",
        "\n",
        "print(s2)"
      ],
      "metadata": {
        "colab": {
          "base_uri": "https://localhost:8080/"
        },
        "id": "gWXcy4RzZIIi",
        "outputId": "cc94c985-2bcf-4ab9-e649-7b243d134072"
      },
      "execution_count": 142,
      "outputs": [
        {
          "output_type": "stream",
          "name": "stdout",
          "text": [
            "HELLO WORLD!\n"
          ]
        }
      ]
    },
    {
      "cell_type": "markdown",
      "source": [
        "また、大文字小文字関係なく文字列を比較したい場合は`upper`メソッドを応用することで比較できます。"
      ],
      "metadata": {
        "id": "yLB5bjC-Z54p"
      }
    },
    {
      "cell_type": "code",
      "source": [
        "print('HELLO' == 'Hello'.upper())\n",
        "print('HELLO' == 'HELLO'.upper())\n",
        "print('HELLO' == 'hello'.upper())"
      ],
      "metadata": {
        "colab": {
          "base_uri": "https://localhost:8080/"
        },
        "id": "CyevwgEGaNSq",
        "outputId": "c3a9dbff-544c-4699-fba4-9954d7c5c120"
      },
      "execution_count": 146,
      "outputs": [
        {
          "output_type": "stream",
          "name": "stdout",
          "text": [
            "True\n",
            "True\n"
          ]
        }
      ]
    },
    {
      "cell_type": "markdown",
      "source": [
        "### 文字列を全て小文字に変換する\n",
        "\n",
        "文字列を全て小文字に変換するときは、`lower`メソッドを使います。"
      ],
      "metadata": {
        "id": "DfO_NMysY5an"
      }
    },
    {
      "cell_type": "code",
      "source": [
        "s1 = 'Hello World!'\n",
        "s2 = s1.lower()\n",
        "\n",
        "print(s2)"
      ],
      "metadata": {
        "colab": {
          "base_uri": "https://localhost:8080/"
        },
        "id": "0DOHKDAkawdE",
        "outputId": "c03c2138-aadd-499c-91f0-47ea65ede2e1"
      },
      "execution_count": 147,
      "outputs": [
        {
          "output_type": "stream",
          "name": "stdout",
          "text": [
            "hello world!\n"
          ]
        }
      ]
    },
    {
      "cell_type": "markdown",
      "source": [
        "`upper`メソッドの代わりに`lower`メソッドを用いても、大文字小文字関係なく文字列を比較することができます。"
      ],
      "metadata": {
        "id": "OPJaHbfXa_c-"
      }
    },
    {
      "cell_type": "code",
      "source": [
        "print('hello' == 'Hello'.lower())\n",
        "print('hello' == 'HELLO'.lower())\n",
        "print('hello' == 'hello'.lower())"
      ],
      "metadata": {
        "colab": {
          "base_uri": "https://localhost:8080/"
        },
        "id": "qtB-AOTSa5fu",
        "outputId": "50a34caa-9265-4ffc-e002-4a0e48e349a4"
      },
      "execution_count": 148,
      "outputs": [
        {
          "output_type": "stream",
          "name": "stdout",
          "text": [
            "True\n",
            "True\n",
            "True\n"
          ]
        }
      ]
    },
    {
      "cell_type": "markdown",
      "source": [
        "### 文字列を分割する\n",
        "\n",
        "文字列を分割する場合は`split`メソッドを使用します。`split`メソッドの引数に分割する文字列を与えると、その文字列で分割したリストを返します。\n"
      ],
      "metadata": {
        "id": "MJyEKZ_1azHH"
      }
    },
    {
      "cell_type": "code",
      "source": [
        "s1 = 'My_Name_is_Python'\n",
        "s1.split('_')"
      ],
      "metadata": {
        "colab": {
          "base_uri": "https://localhost:8080/"
        },
        "id": "a-AowZgBcDGm",
        "outputId": "f423b553-238c-47fd-bb1c-2cde5dcfba7d"
      },
      "execution_count": 151,
      "outputs": [
        {
          "output_type": "execute_result",
          "data": {
            "text/plain": [
              "['My', 'Name', 'is', 'Python']"
            ]
          },
          "metadata": {},
          "execution_count": 151
        }
      ]
    },
    {
      "cell_type": "markdown",
      "source": [
        "引数を与えなかった場合はスペースで分割されます。"
      ],
      "metadata": {
        "id": "ldP5BoZIcW4a"
      }
    },
    {
      "cell_type": "code",
      "source": [
        "s1 = 'My Name is Python'\n",
        "s1.split()"
      ],
      "metadata": {
        "colab": {
          "base_uri": "https://localhost:8080/"
        },
        "id": "_C9jmhh6b9Q5",
        "outputId": "0b52e683-5474-4635-c9a1-f0bfcf53ace8"
      },
      "execution_count": 149,
      "outputs": [
        {
          "output_type": "execute_result",
          "data": {
            "text/plain": [
              "['My', 'Name', 'is', 'Python']"
            ]
          },
          "metadata": {},
          "execution_count": 149
        }
      ]
    },
    {
      "cell_type": "markdown",
      "source": [
        "### 文字列から空白を取り除く\n",
        "\n",
        "文字列の両端から空白を取り除く場合は`strip`メソッド、先頭から取り除く場合は`lstrip`メソッド、末尾から取り除く場合は`rstrip`メソッドを使います。"
      ],
      "metadata": {
        "id": "dtQVdYb0ZB2s"
      }
    },
    {
      "cell_type": "code",
      "source": [
        "s1 = '   Hello World!!   '\n",
        "print(f'|{s1}|')\n",
        "print(f'|{s1.strip()}|')\n",
        "print(f'|{s1.lstrip()}|')\n",
        "print(f'|{s1.rstrip()}|')"
      ],
      "metadata": {
        "colab": {
          "base_uri": "https://localhost:8080/"
        },
        "id": "H_ABXwErSwfL",
        "outputId": "1d97084d-940c-4a7b-d354-849543d1563a"
      },
      "execution_count": 160,
      "outputs": [
        {
          "output_type": "stream",
          "name": "stdout",
          "text": [
            "|   Hello World!!   |\n",
            "|Hello World!!|\n",
            "|Hello World!!   |\n",
            "|   Hello World!!|\n"
          ]
        }
      ]
    },
    {
      "cell_type": "markdown",
      "source": [
        "### 文字列から特定の文字列を取り除く"
      ],
      "metadata": {
        "id": "Mhgfj_IvexRU"
      }
    },
    {
      "cell_type": "markdown",
      "source": [
        "文字列の中から特定の文字列を取り除きたい場合は、`split`メソッドを使って取り除きたい文字列で分割したリストを作り、それを`''`(空文字)の`join`メソッドに与えることで実現できます。\n",
        "\n",
        "文字列から、スペースを取り除きたい場合は以下のようにします。"
      ],
      "metadata": {
        "id": "EomYK8godsUL"
      }
    },
    {
      "cell_type": "code",
      "source": [
        "s1 = 'My Name is Python'\n",
        "l = s1.split()\n",
        "print(l)\n",
        "\n",
        "s2 = ''.join(s1.split())\n",
        "print(s2)"
      ],
      "metadata": {
        "colab": {
          "base_uri": "https://localhost:8080/"
        },
        "id": "v8XieypEc6IW",
        "outputId": "f300e394-e8e9-40fd-a0f8-3b03d597162f"
      },
      "execution_count": 159,
      "outputs": [
        {
          "output_type": "stream",
          "name": "stdout",
          "text": [
            "['My', 'Name', 'is', 'Python']\n",
            "MyNameisPython\n"
          ]
        }
      ]
    },
    {
      "cell_type": "code",
      "source": [
        ""
      ],
      "metadata": {
        "id": "p0YhSF2fdlh8"
      },
      "execution_count": null,
      "outputs": []
    }
  ]
}