{
  "nbformat": 4,
  "nbformat_minor": 0,
  "metadata": {
    "colab": {
      "name": "2022-03-06-How-to-easily-publish-a-Notebook-on-github.io-using-fastpages.ipynb",
      "provenance": [],
      "collapsed_sections": [],
      "toc_visible": true,
      "authorship_tag": "ABX9TyPf2cwo83Zg1cCsnuQdw2I1",
      "include_colab_link": true
    },
    "kernelspec": {
      "name": "python3",
      "display_name": "Python 3"
    },
    "language_info": {
      "name": "python"
    }
  },
  "cells": [
    {
      "cell_type": "markdown",
      "metadata": {
        "id": "view-in-github",
        "colab_type": "text"
      },
      "source": [
        "<a href=\"https://colab.research.google.com/github/taka4ma/fastpages/blob/master/2022_03_06_How_to_easily_publish_a_Notebook_on_github_io_using_fastpages.ipynb\" target=\"_parent\"><img src=\"https://colab.research.google.com/assets/colab-badge.svg\" alt=\"Open In Colab\"/></a>"
      ]
    },
    {
      "cell_type": "markdown",
      "source": [
        ""
      ],
      "metadata": {
        "id": "Wex9qO7VUsKZ"
      }
    },
    {
      "cell_type": "markdown",
      "source": [
        "# fastpagesを使ってgithub.ioでNotebookを簡単に公開する方法\n",
        "\n",
        "> [Github Pages](https://pages.github.com/)でJupyterやGoogle ColaboratoryのNotebookを簡単に公開する方法を紹介します\n",
        "\n",
        "- toc: true\n",
        "- badges: false\n",
        "- comments: false\n",
        "- categories: [fastpages]"
      ],
      "metadata": {
        "id": "zcDIvRx5Nvkb"
      }
    },
    {
      "cell_type": "markdown",
      "source": [
        "## 背景\n",
        "\n",
        "Jupyter NotebookやGoogle ColaboratoryのNotebookファイルをGithub Pagesで公開する方法は、以下の2つが知られています。\n",
        "\n",
        "1. NotebookファイルをMarkdownファイルへエクスポートしてGithubリポジトリへPushする。(GitHub PagesにはリポジトリにPushされたMarkdownファイルにアクセスすると、HTMLとしてレンダリングする機能があるため。)\n",
        "1. NotebookファイルをGitHub GistにPushし、リポジトリにはgistの埋め込みスクリプトを記述したMarkdownかHTMLをPushする。(GitHub GistにはNotebookファイルを埋め込みスクリプトで表示するとHTMLとしてレンダリングする機能があるため。)\n",
        "\n",
        "しかし、最初の方法はNotebookを作成・更新するたびに手動でMarkdownにエクスポートしなければなりません。Jupyter Notebookには開いているNotebookファイルをMarkdownファイルにコンバートしてダウンロードする機能があるので、それを利用することができます。Google ColaboratoryにはMarkdownファイルにコンバートする機能がないため、別に用意する必要があります。いずれにしても、NotebookファイルとMarkdownファイルの両方を管理しなければならないため、管理が煩雑になってしまいます。\n",
        "\n",
        "また、2つ目の方法では公開するNotebookごとにgistを用意する必要があります。gistはそれ自体が1つのリポジトリなので、Notebookの数だけリポジトリを管理しなくてはならず、管理が煩雑になります。Google Colaboratoryには開いているNotebookファイルのコピーをGitHub Gistへ保存する機能がありますが、保存するたびに新しいgistとして保存されてしまうため、この機能を利用するならば、gistの埋め込みスクリプトを記述したファイルを都度更新しなくてはなりません。\n",
        "\n",
        "このように、現在知られている2つの方法は、どちらもファイルやリポジトリの管理に手間がかかってしまうため、より簡単な方法が必要でした。\n"
      ],
      "metadata": {
        "id": "zWHlySlPN9O5"
      }
    },
    {
      "cell_type": "markdown",
      "source": [
        "## fastpagesとは\n",
        "\n",
        "[fastai/fastpages: An easy to use blogging platform, with enhanced support for Jupyter Notebooks\\.](https://github.com/fastai/fastpages) にて公開されているソフトウェアです。使用するには公開されているリポジトリをCloneし、初期設定を行います。そしてそのリポジトリのmasterブランチへルールに従ってNotebookファイルをPushします。そうするとGithub Actionが実行されます。実行されたGithub Actionによりコンテナが起動し、リポジトリがコンテナ上にCloneされ、ファイルのコンバートが行われ、出来たファイルがリポジトリのgh-pagesブランチへPushされます。このリポジトリはgh-pagesブランチをGitHub Pagesのコンテンツとして公開するように設定されているので、コンバートされたファイルが公開されます。"
      ],
      "metadata": {
        "id": "FlRRukFhOACE"
      }
    },
    {
      "cell_type": "markdown",
      "source": [
        "## Initial settings\n",
        "1. fastpagesのリポジトリ(https://github.com/fastai/fastpages) にブラウザでアクセスする.\n",
        "1. Setup Instructionsに、`Generate a copy of this repo by clicking on this link.`と書かれているので、リンクをクリックする.\n",
        "1. \"Create a new repository from fastpages\"というタイトルの、リポジトリ作成画面が表示されるので,\n",
        "    1. `owner`に任意のアカウントまたはOrganizationsを選択する.\n",
        "    3. `Repository name`にGithubの自分のユーザー名**以外**の名前を設定する.\n",
        "    4. `Public/Private`は`Public`を選ぶ。\n",
        "    5. `Include all branches`にチェックを**入れない**. (https://github.com/fastai/fastpages/issues/608)\n",
        "    6. `Create repository from template`をクリックする.\n",
        "1. ブラウザに作成したリポジトリが表示される\n",
        "1. fastpagesのテンプレートからリポジトリを作成すると、GitHub Actionsのワークフローが実行され、PRが作成されるので、リポジトリのActionsタブを開いて、ワークフローが実行されているか確認する.\n",
        "    - ワークフローが実行されていれば、All workflowsに実行されたワークフローが表示される.\n",
        "    - もし、ワークフローが実行されていない場合は、リポジトリのSettings > Actions > General > Actions permissionsで実行が許可されているか確認する.\n",
        "1. Pull requestsタブを開いて, \"Inital Setup\" というPRを開く.\n",
        "1. PRの\"Before you merge this PR\"セクションを順番に処理する\n",
        "    1. \"Create an ssh key-pair. Open this utility. Select: RSA and 4096 and leave Passphrase blank. Click the blue button Generate-SSH-Keys.\" \n",
        "        1. ブラウザで[Online Generate SSH keys algorithm RSA,DSA,ECDSA](https://8gwifi.org/sshfunctions.jsp)を開く\n",
        "        2. `SSH-Keygen Online Algorithm`で`RSA`を選択する.\n",
        "        3. `RSA Key Size`で`4096`を選択する\n",
        "        4. `Passphrase`は入力しない\n",
        "        5. `Generate-SSH-Keys`をクリックする. そうすると、SSH鍵が作成され、表示される\n",
        "        - ssh鍵は、ローカルマシンで、`ssh-keygen`コマンドで作成してもよい.\n",
        "    1. \"Navigate to this link and click New repository secret. Copy and paste the Private Key into the Value field. This includes the \"---BEGIN RSA PRIVATE KEY---\" and \"--END RSA PRIVATE KEY---\" portions. In the Name field, name the secret SSH_DEPLOY_KEY.\"\n",
        "        1. リポジトリの, Settings > Secrets > Actions を開き、`New repository secret`をクリックする.\n",
        "        1. `Name`に`SSH_DEPLOY_KEY`と入力.\n",
        "        1. `Value`に生成した秘密鍵をペーストする. この時、\"---BEGIN RSA PRIVATE KEY---\" から \"--END RSA PRIVATE KEY---\"までを含むこと.\n",
        "        1. `Add secret`をクリックして、登録する.\n",
        "    1. \"Navigate to this link and click the Add deploy key button. Paste your Public Key from step 1 into the Key box. In the Title, name the key anything you want, for example fastpages-key. Finally, make sure you click the checkbox next to Allow write access (pictured below), and click Add key to save the key.\"\n",
        "        1. リポジトリの, Settings > Deploy keysを開き、`Add deploy key`をクリックする.\n",
        "        1. `タイトル`に、fastpages-keyなど、好きな名前を付けます。\n",
        "        1. 作成した公開鍵を`Key`にペーストする.\n",
        "        1. `Allow write access`のチェックボックスにチェックをつける.\n",
        "        2. `Add key`をクリックしてキーを保存する.\n",
        "1. \"Inital Setup\"PRの`Merge pull request`をクリックし、コミットメッセージを入力するか、またはデフォルトのまま、`Confirm merge`をクリックする。\n",
        "    - PRをマージすると、GitHub Actionsのワークフローが実行され、リポジトリの内容が変更される、最初のデプロイが行われる。\n",
        "1. リポジトリのCodeタブを開く。\n",
        "1. README.mdが変更され、fastpagesによってデプロイされるコンテンツのトップのURLが記述されているので、そのURLをリンクで開く\n",
        "    - URLは通常、 https://ユーザ名.github.io/リポジトリ名\n",
        "    - 404の場合は、デプロイがまだ終わっていないので、数分待ってからリロードする\n",
        "    "
      ],
      "metadata": {
        "id": "rDFo0dveOCbK"
      }
    },
    {
      "cell_type": "markdown",
      "source": [
        "## markdownファイルを投稿する\n",
        "\n",
        "1. YYYY-MM-DD-*.mdの命名規則に従って、投稿するmarkdownファイルのファイル名を変更します。\n",
        "1. `/_post` ディレクトリへプッシュしてください。\n"
      ],
      "metadata": {
        "id": "8D67Cz2tOFZy"
      }
    },
    {
      "cell_type": "markdown",
      "source": [
        "## Notebookファイルを投稿する\n",
        "\n",
        "1. YYYY-MM-DD-*.mdの命名規則に従って、投稿するnotebookファイルのファイル名を変更します。\n",
        "1. `/_notebooks` ディレクトリへプッシュしてください。\n"
      ],
      "metadata": {
        "id": "3vx-ChV3OG-0"
      }
    }
  ]
}