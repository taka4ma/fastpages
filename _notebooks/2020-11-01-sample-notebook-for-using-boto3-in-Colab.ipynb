{
  "cells": [
    {
      "cell_type": "markdown",
      "metadata": {},
      "source": [
        "# GoogleColaboratoryでboto3を使用するサンプルnotebook\n",
        "\n",
        "> Amazon Web Services (AWS)のPython向けSDKであるBotoをGoogleColaboratoryから使用するサンプルです\n",
        "\n",
        "- toc: true\n",
        "- badges: true\n",
        "- comments: false\n",
        "- categories: [jupyter, boto3]\n"
      ]
    },
    {
      "cell_type": "markdown",
      "metadata": {
        "id": "XcPUuKYzmptV"
      },
      "source": [
        "## このnotebookは......\n",
        "\n",
        "Amazon Web Services (AWS)のPython向けSDKであるBotoをGoogleColaboratoryから使用するサンプルです。\n",
        "\n",
        "Botoの詳細は、 [公式ドキュメント](https://boto3.amazonaws.com/v1/documentation/api/latest/index.html) を参照してください。\n",
        "\n",
        "このNotebookを実行するには、Amazon web service(AWS)のアカウントが必要です。 AWSの利用にはクレジットカード等の登録が必要な場合があります。"
      ]
    },
    {
      "cell_type": "markdown",
      "metadata": {
        "id": "IWW9VF51nmCY"
      },
      "source": [
        "## 作業準備\n",
        "\n",
        "### AWSアクセスキーの作成\n",
        "\n",
        "Botoを使用するには、事前にAWSのアクセスキーを用意する必要があります。\n",
        "\n",
        "アクセスキー管理方法は様々ありますが、AWS IAMのユーザー https://console.aws.amazon.com/iam/home?region=us-west-2#/users からNotebook用のユーザーを作成する方法があります。万が一アクセスキーが漏れた場合に備えて、権限を最小限に、いつでも無効化できるように設定する必要があります。\n"
      ]
    },
    {
      "cell_type": "markdown",
      "metadata": {
        "id": "DvMa59rgpOfi"
      },
      "source": [
        "## インストール\n",
        "\n",
        "Boto公式ドキュメントの [Installation](https://boto3.amazonaws.com/v1/documentation/api/latest/guide/quickstart.html#installation) を参考に、GoogleColaboratoryのラインタイム環境へ、boto3をインストールします。"
      ]
    },
    {
      "cell_type": "code",
      "execution_count": null,
      "metadata": {
        "colab": {
          "base_uri": "https://localhost:8080/",
          "height": 309
        },
        "id": "K-lW5kZQnsSd",
        "outputId": "3a7e1343-5a8b-4169-a0e7-b3f3b40b9fe0",
        "vscode": {
          "languageId": "python"
        }
      },
      "outputs": [
        {
          "name": "stdout",
          "output_type": "stream",
          "text": [
            "Collecting boto3\n",
            "\u001b[?25l  Downloading https://files.pythonhosted.org/packages/3f/87/31810f044f2dd2101f2ecd85c5539bbddef4cff47df39eb0be895cc23af4/boto3-1.15.16-py2.py3-none-any.whl (129kB)\n",
            "\u001b[K     |████████████████████████████████| 133kB 4.4MB/s \n",
            "\u001b[?25hCollecting botocore<1.19.0,>=1.18.16\n",
            "\u001b[?25l  Downloading https://files.pythonhosted.org/packages/2d/9e/afa41db0cd911869305bb783b9b021be67ea23c8b7b317caa46632dbf3cf/botocore-1.18.16-py2.py3-none-any.whl (6.7MB)\n",
            "\u001b[K     |████████████████████████████████| 6.7MB 11.9MB/s \n",
            "\u001b[?25hCollecting s3transfer<0.4.0,>=0.3.0\n",
            "\u001b[?25l  Downloading https://files.pythonhosted.org/packages/69/79/e6afb3d8b0b4e96cefbdc690f741d7dd24547ff1f94240c997a26fa908d3/s3transfer-0.3.3-py2.py3-none-any.whl (69kB)\n",
            "\u001b[K     |████████████████████████████████| 71kB 6.3MB/s \n",
            "\u001b[?25hCollecting jmespath<1.0.0,>=0.7.1\n",
            "  Downloading https://files.pythonhosted.org/packages/07/cb/5f001272b6faeb23c1c9e0acc04d48eaaf5c862c17709d20e3469c6e0139/jmespath-0.10.0-py2.py3-none-any.whl\n",
            "Requirement already satisfied: python-dateutil<3.0.0,>=2.1 in /usr/local/lib/python3.6/dist-packages (from botocore<1.19.0,>=1.18.16->boto3) (2.8.1)\n",
            "Requirement already satisfied: urllib3<1.26,>=1.20; python_version != \"3.4\" in /usr/local/lib/python3.6/dist-packages (from botocore<1.19.0,>=1.18.16->boto3) (1.24.3)\n",
            "Requirement already satisfied: six>=1.5 in /usr/local/lib/python3.6/dist-packages (from python-dateutil<3.0.0,>=2.1->botocore<1.19.0,>=1.18.16->boto3) (1.15.0)\n",
            "Installing collected packages: jmespath, botocore, s3transfer, boto3\n",
            "Successfully installed boto3-1.15.16 botocore-1.18.16 jmespath-0.10.0 s3transfer-0.3.3\n"
          ]
        }
      ],
      "source": [
        "!pip install boto3"
      ]
    },
    {
      "cell_type": "markdown",
      "metadata": {
        "id": "7M3PLFMztDyc"
      },
      "source": [
        "## コンフィグレーション\n",
        "\n",
        "Botoを使用するためには、認証資格情報をセットアップする必要があります。\n",
        "\n",
        "Boto公式ドキュメントの [Configuration](https://boto3.amazonaws.com/v1/documentation/api/latest/guide/quickstart.html#configuration) には、AWSCLIを用いる方法と、`~/.aws/credentials`に設定を記述する方法が記載されていますが、 [Using environment variables](https://boto3.amazonaws.com/v1/documentation/api/latest/guide/configuration.html#using-environment-variables) によれば、環境変数に設定することも可能なので、このnotebookでは環境変数を設定することにします。\n",
        "\n",
        "なお、最低限設定すべき環境変数は、 [Configuration](https://boto3.amazonaws.com/v1/documentation/api/latest/guide/quickstart.html#configuration) の記述内容から、以下の3つと考えられます。\n",
        "\n",
        "1. AWS_ACCESS_KEY_ID\n",
        "1. AWS_SECRET_ACCESS_KEY\n",
        "1. AWS_DEFAULT_REGION\n",
        "\n",
        "AWS_ACCESS_KEY_IDとAWS_SECRET_ACCESS_KEYには、AWSアクセスキーのアクセスキー IDとシークレットアクセスキーを設定します。\n",
        "\n",
        "AWS_DEFAULT_REGIONには使用するリージョンを設定します。このnotebookでは東京リージョン( ap-northeast-1 )を使用します。\n"
      ]
    },
    {
      "cell_type": "markdown",
      "metadata": {
        "id": "yDgAaiUeDph6"
      },
      "source": [
        "### アクセスキーIDを設定する"
      ]
    },
    {
      "cell_type": "code",
      "execution_count": null,
      "metadata": {
        "colab": {
          "base_uri": "https://localhost:8080/",
          "height": 34
        },
        "id": "vhNAmlbOwzB9",
        "outputId": "97f1749c-e0ee-421a-e7ec-40871be9aada",
        "vscode": {
          "languageId": "python"
        }
      },
      "outputs": [
        {
          "name": "stdout",
          "output_type": "stream",
          "text": [
            "··········\n"
          ]
        }
      ],
      "source": [
        "import os\n",
        "import getpass\n",
        "\n",
        "os.environ['AWS_ACCESS_KEY_ID'] = getpass.getpass()"
      ]
    },
    {
      "cell_type": "markdown",
      "metadata": {
        "id": "7QZ1Z2Q4D5HG"
      },
      "source": [
        "### シークレットアクセスキーを設定する"
      ]
    },
    {
      "cell_type": "code",
      "execution_count": null,
      "metadata": {
        "colab": {
          "base_uri": "https://localhost:8080/",
          "height": 34
        },
        "id": "mBB8bNtkzZZJ",
        "outputId": "e9011baa-e068-4417-c864-b69c633cb76e",
        "vscode": {
          "languageId": "python"
        }
      },
      "outputs": [
        {
          "name": "stdout",
          "output_type": "stream",
          "text": [
            "··········\n"
          ]
        }
      ],
      "source": [
        "os.environ['AWS_SECRET_ACCESS_KEY'] = getpass.getpass()"
      ]
    },
    {
      "cell_type": "markdown",
      "metadata": {
        "id": "sSKV4818D8mK"
      },
      "source": [
        "### デフォルトリージョンを設定する\n",
        "\n"
      ]
    },
    {
      "cell_type": "code",
      "execution_count": null,
      "metadata": {
        "id": "zLLGpa-fyxqF",
        "vscode": {
          "languageId": "python"
        }
      },
      "outputs": [],
      "source": [
        "os.environ['AWS_DEFAULT_REGION'] = 'ap-northeast-1'"
      ]
    },
    {
      "cell_type": "markdown",
      "metadata": {
        "id": "DL6qxHEtzmg0"
      },
      "source": [
        "# boto3を使用してみる\n",
        "\n",
        "公式ドキュメントの [Using Boto3](https://boto3.amazonaws.com/v1/documentation/api/latest/guide/quickstart.html#using-boto3) を参考に、Boto3を使ってみる"
      ]
    },
    {
      "cell_type": "markdown",
      "metadata": {
        "id": "5cj1cYrcNIQy"
      },
      "source": [
        "boto3をインポートし、使用するサービスとしてS3を指定する"
      ]
    },
    {
      "cell_type": "code",
      "execution_count": null,
      "metadata": {
        "id": "AqyAwJhEyD0z",
        "vscode": {
          "languageId": "python"
        }
      },
      "outputs": [],
      "source": [
        "import boto3\n",
        "\n",
        "s3 = boto3.resource('s3')"
      ]
    },
    {
      "cell_type": "markdown",
      "metadata": {
        "id": "rUD_hI9QNVNa"
      },
      "source": [
        "S3の全てのバケット名を出力する"
      ]
    },
    {
      "cell_type": "code",
      "execution_count": null,
      "metadata": {
        "colab": {
          "base_uri": "https://localhost:8080/",
          "height": 34
        },
        "id": "JqbSWQ0F0DJP",
        "outputId": "bba77bdf-6185-4181-969a-4b45b9640373",
        "vscode": {
          "languageId": "python"
        }
      },
      "outputs": [
        {
          "name": "stdout",
          "output_type": "stream",
          "text": [
            "mybucket-202007211923\n"
          ]
        }
      ],
      "source": [
        "for bucket in s3.buckets.all():\n",
        "  print(bucket.name)"
      ]
    },
    {
      "cell_type": "markdown",
      "metadata": {
        "id": "VrWTMciMPy3Y"
      },
      "source": [
        "Using Boto3では、ファイルをバケットへputしているが、その前に現在のバケット内のオブジェクトを確認しておく\n",
        "\n",
        "Using Boto3に書かれていないS3リソースについては、Boto3ドキュメントの [S3](https://boto3.amazonaws.com/v1/documentation/api/latest/reference/services/s3.html#s3) を参照のこと"
      ]
    },
    {
      "cell_type": "code",
      "execution_count": null,
      "metadata": {
        "colab": {
          "base_uri": "https://localhost:8080/",
          "height": 34
        },
        "id": "yxffYWRUPzFZ",
        "outputId": "419d44d6-2132-4ab2-d72c-242ade340f89",
        "vscode": {
          "languageId": "python"
        }
      },
      "outputs": [
        {
          "data": {
            "text/plain": [
              "[]"
            ]
          },
          "execution_count": 19,
          "metadata": {
            "tags": []
          },
          "output_type": "execute_result"
        }
      ],
      "source": [
        "bucket = s3.Bucket('mybucket-202007211923')\n",
        "list(bucket.objects.all())"
      ]
    },
    {
      "cell_type": "markdown",
      "metadata": {
        "id": "dnOuyDCpRqh4"
      },
      "source": [
        "オブジェクトは何もないようだ"
      ]
    },
    {
      "cell_type": "markdown",
      "metadata": {
        "id": "kYDjRI7qRup4"
      },
      "source": [
        "Using Boto3と同じように、バケットへファイルをputする。\n",
        "\n",
        "ただし、Colaboratory環境へ画像ファイルをアップロードするのが面倒なので、今回はテキストファイルをputすることにする"
      ]
    },
    {
      "cell_type": "code",
      "execution_count": null,
      "metadata": {
        "colab": {
          "base_uri": "https://localhost:8080/",
          "height": 68
        },
        "id": "-ss_P7kkSK89",
        "outputId": "e6aae314-ebbd-47fc-942c-d4bc6fe3963b",
        "vscode": {
          "languageId": "python"
        }
      },
      "outputs": [
        {
          "name": "stdout",
          "output_type": "stream",
          "text": [
            "total 4\n",
            "-rw-r--r-- 1 root root    0 Oct 13 14:07 foo.txt\n",
            "drwxr-xr-x 1 root root 4096 Oct  5 16:31 sample_data\n"
          ]
        }
      ],
      "source": [
        "!touch foo.txt\n",
        "!ls -l"
      ]
    },
    {
      "cell_type": "code",
      "execution_count": null,
      "metadata": {
        "id": "N86-X-HeSUPK",
        "vscode": {
          "languageId": "python"
        }
      },
      "outputs": [],
      "source": [
        "with open('foo.txt', 'rb') as data:\n",
        "  bucket.put_object(Key='foo.txt', Body=data)"
      ]
    },
    {
      "cell_type": "markdown",
      "metadata": {
        "id": "KGzTBr5EUFeM"
      },
      "source": [
        "ファイルがputできたか確認する"
      ]
    },
    {
      "cell_type": "code",
      "execution_count": null,
      "metadata": {
        "colab": {
          "base_uri": "https://localhost:8080/",
          "height": 34
        },
        "id": "_kQkTgdiT6MZ",
        "outputId": "778c7039-2634-4666-939d-bc4234d03bed",
        "vscode": {
          "languageId": "python"
        }
      },
      "outputs": [
        {
          "data": {
            "text/plain": [
              "[s3.ObjectSummary(bucket_name='mybucket-202007211923', key='foo.txt')]"
            ]
          },
          "execution_count": 26,
          "metadata": {
            "tags": []
          },
          "output_type": "execute_result"
        }
      ],
      "source": [
        "list(bucket.objects.all())"
      ]
    },
    {
      "cell_type": "markdown",
      "metadata": {
        "id": "k3w150XxULiV"
      },
      "source": [
        "putできたようだ\n",
        "\n",
        "以上"
      ]
    }
  ],
  "metadata": {
    "colab": {
      "collapsed_sections": [],
      "include_colab_link": true,
      "name": "Boto3sample.ipynb",
      "provenance": [],
      "toc_visible": true
    },
    "kernelspec": {
      "display_name": "Python 3",
      "name": "python3"
    }
  },
  "nbformat": 4,
  "nbformat_minor": 0
}
